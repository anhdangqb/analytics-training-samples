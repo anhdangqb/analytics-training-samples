{
 "cells": [
  {
   "cell_type": "code",
   "execution_count": 1,
   "id": "8a3608e1-c37b-4b5e-9aa8-b9a8fc926064",
   "metadata": {
    "execution": {
     "iopub.execute_input": "2022-09-01T05:17:17.845047Z",
     "iopub.status.busy": "2022-09-01T05:17:17.844514Z",
     "iopub.status.idle": "2022-09-01T05:17:21.787208Z",
     "shell.execute_reply": "2022-09-01T05:17:21.785777Z"
    },
    "papermill": {
     "duration": 3.9576,
     "end_time": "2022-09-01T05:17:21.790409",
     "exception": false,
     "start_time": "2022-09-01T05:17:17.832809",
     "status": "completed"
    },
    "tags": []
   },
   "outputs": [],
   "source": [
    "from google.cloud import bigquery\n",
    "from google.oauth2 import service_account\n",
    "import pandas as pd \n",
    "import missingno as msno\n",
    "import matplotlib.pyplot as plt\n",
    "import os"
   ]
  },
  {
   "cell_type": "code",
   "execution_count": 2,
   "id": "6476c04a-e9bb-4007-adb1-444744fa1e60",
   "metadata": {
    "execution": {
     "iopub.execute_input": "2022-09-01T05:17:21.799890Z",
     "iopub.status.busy": "2022-09-01T05:17:21.799594Z",
     "iopub.status.idle": "2022-09-01T05:17:21.812856Z",
     "shell.execute_reply": "2022-09-01T05:17:21.812041Z"
    },
    "papermill": {
     "duration": 0.021211,
     "end_time": "2022-09-01T05:17:21.815088",
     "exception": false,
     "start_time": "2022-09-01T05:17:21.793877",
     "status": "completed"
    },
    "tags": []
   },
   "outputs": [],
   "source": [
    "from bigquery_load_data import bq_to_dataframe"
   ]
  },
  {
   "cell_type": "code",
   "execution_count": 3,
   "id": "c800044e-e87c-4629-b41d-b98423e93077",
   "metadata": {
    "execution": {
     "iopub.execute_input": "2022-09-01T05:17:21.821778Z",
     "iopub.status.busy": "2022-09-01T05:17:21.821535Z",
     "iopub.status.idle": "2022-09-01T05:17:22.385590Z",
     "shell.execute_reply": "2022-09-01T05:17:22.384488Z"
    },
    "papermill": {
     "duration": 0.57095,
     "end_time": "2022-09-01T05:17:22.388731",
     "exception": false,
     "start_time": "2022-09-01T05:17:21.817781",
     "status": "completed"
    },
    "tags": []
   },
   "outputs": [
    {
     "name": "stdout",
     "output_type": "stream",
     "text": [
      "\u001b[1m\u001b[36m01-bigquery-notebooks\u001b[m\u001b[m \u001b[1m\u001b[36mcheatsheets\u001b[m\u001b[m           \u001b[1m\u001b[36mimages\u001b[m\u001b[m\r\n",
      "\u001b[1m\u001b[36m02-reproducibility\u001b[m\u001b[m    \u001b[1m\u001b[36mcredentials\u001b[m\u001b[m           requirements.txt\r\n",
      "README.md             \u001b[1m\u001b[36mdvc-data\u001b[m\u001b[m\r\n"
     ]
    }
   ],
   "source": [
    "!ls ../.."
   ]
  },
  {
   "cell_type": "code",
   "execution_count": 4,
   "id": "33da19fd-106f-4af5-a312-b7191dabec42",
   "metadata": {
    "execution": {
     "iopub.execute_input": "2022-09-01T05:17:22.397498Z",
     "iopub.status.busy": "2022-09-01T05:17:22.397184Z",
     "iopub.status.idle": "2022-09-01T05:17:22.402783Z",
     "shell.execute_reply": "2022-09-01T05:17:22.401841Z"
    },
    "papermill": {
     "duration": 0.012823,
     "end_time": "2022-09-01T05:17:22.405308",
     "exception": false,
     "start_time": "2022-09-01T05:17:22.392485",
     "status": "completed"
    },
    "tags": []
   },
   "outputs": [],
   "source": [
    "# Parameters\n",
    "project_id = os.getenv('PROJECT_ID')\n",
    "project = 'bigquery-public-data'\n",
    "dataset = os.getenv('DATASET')\n",
    "credentials_path = '../../credentials/demo-credentials.json'\n",
    "output_path = os.getenv('OUTPUT_PATH')"
   ]
  },
  {
   "cell_type": "code",
   "execution_count": 5,
   "id": "221ff8db-1127-4b9c-845c-2f757821c7a9",
   "metadata": {
    "execution": {
     "iopub.execute_input": "2022-09-01T05:17:22.411988Z",
     "iopub.status.busy": "2022-09-01T05:17:22.411704Z",
     "iopub.status.idle": "2022-09-01T05:17:22.422952Z",
     "shell.execute_reply": "2022-09-01T05:17:22.422270Z"
    },
    "papermill": {
     "duration": 0.016911,
     "end_time": "2022-09-01T05:17:22.425058",
     "exception": false,
     "start_time": "2022-09-01T05:17:22.408147",
     "status": "completed"
    },
    "tags": []
   },
   "outputs": [],
   "source": [
    "credentials = service_account.Credentials.from_service_account_file(credentials_path)"
   ]
  },
  {
   "cell_type": "code",
   "execution_count": 6,
   "id": "fd62804d-bb7d-4d5e-934a-fff2fd242bbd",
   "metadata": {
    "execution": {
     "iopub.execute_input": "2022-09-01T05:17:22.431841Z",
     "iopub.status.busy": "2022-09-01T05:17:22.431316Z",
     "iopub.status.idle": "2022-09-01T05:17:22.435379Z",
     "shell.execute_reply": "2022-09-01T05:17:22.434851Z"
    },
    "papermill": {
     "duration": 0.009539,
     "end_time": "2022-09-01T05:17:22.437092",
     "exception": false,
     "start_time": "2022-09-01T05:17:22.427553",
     "status": "completed"
    },
    "tags": []
   },
   "outputs": [],
   "source": [
    "bq_client = bigquery.Client(\n",
    "    project=project_id,\n",
    "    credentials=credentials,\n",
    ")"
   ]
  },
  {
   "cell_type": "code",
   "execution_count": 7,
   "id": "be38155f-18ed-4a4e-bac0-7283bbdbb11e",
   "metadata": {
    "execution": {
     "iopub.execute_input": "2022-09-01T05:17:22.442799Z",
     "iopub.status.busy": "2022-09-01T05:17:22.442505Z",
     "iopub.status.idle": "2022-09-01T05:17:42.438308Z",
     "shell.execute_reply": "2022-09-01T05:17:42.437206Z"
    },
    "papermill": {
     "duration": 20.001242,
     "end_time": "2022-09-01T05:17:42.440695",
     "exception": false,
     "start_time": "2022-09-01T05:17:22.439453",
     "status": "completed"
    },
    "tags": []
   },
   "outputs": [],
   "source": [
    "full_201510 = bq_to_dataframe(bq_client, \n",
    "    f'''\n",
    "    SELECT\n",
    "        id, \n",
    "        `by`,\n",
    "        type,\n",
    "        TIMESTAMP_SECONDS(time) AS time_ts,\n",
    "        title, \n",
    "        parent,\n",
    "        descendants,\n",
    "        score,\n",
    "        ranking,\n",
    "        dead,\n",
    "        deleted\n",
    "    FROM `{project}.{dataset}.full_201510`\n",
    "    TABLESAMPLE SYSTEM (1 PERCENT)\n",
    "    '''\n",
    "    )"
   ]
  },
  {
   "cell_type": "code",
   "execution_count": 8,
   "id": "016e5b10-317c-4f1f-8f2f-6fc92b8d32f0",
   "metadata": {
    "execution": {
     "iopub.execute_input": "2022-09-01T05:17:42.448533Z",
     "iopub.status.busy": "2022-09-01T05:17:42.448231Z",
     "iopub.status.idle": "2022-09-01T05:17:44.794976Z",
     "shell.execute_reply": "2022-09-01T05:17:44.794233Z"
    },
    "papermill": {
     "duration": 2.35349,
     "end_time": "2022-09-01T05:17:44.797784",
     "exception": false,
     "start_time": "2022-09-01T05:17:42.444294",
     "status": "completed"
    },
    "tags": []
   },
   "outputs": [],
   "source": [
    "full_201510.to_csv(output_path, index=False)"
   ]
  },
  {
   "cell_type": "code",
   "execution_count": null,
   "id": "9331789c-2a18-4c3e-9718-387ee4dceacc",
   "metadata": {
    "papermill": {
     "duration": 0.002614,
     "end_time": "2022-09-01T05:17:44.806626",
     "exception": false,
     "start_time": "2022-09-01T05:17:44.804012",
     "status": "completed"
    },
    "tags": []
   },
   "outputs": [],
   "source": []
  }
 ],
 "metadata": {
  "kernelspec": {
   "display_name": "Python 3 (ipykernel)",
   "language": "python",
   "name": "python3"
  },
  "language_info": {
   "codemirror_mode": {
    "name": "ipython",
    "version": 3
   },
   "file_extension": ".py",
   "mimetype": "text/x-python",
   "name": "python",
   "nbconvert_exporter": "python",
   "pygments_lexer": "ipython3",
   "version": "3.9.12"
  },
  "papermill": {
   "default_parameters": {},
   "duration": 29.145046,
   "end_time": "2022-09-01T05:17:45.238624",
   "environment_variables": {},
   "exception": null,
   "input_path": "/Users/anhdang/Developer/analytics-training-samples/02-reproducibility/elyra-assignment/stories_load_data.ipynb",
   "output_path": "/Users/anhdang/Developer/analytics-training-samples/02-reproducibility/elyra-assignment/stories_load_data.ipynb",
   "parameters": {},
   "start_time": "2022-09-01T05:17:16.093578",
   "version": "2.4.0"
  }
 },
 "nbformat": 4,
 "nbformat_minor": 5
}