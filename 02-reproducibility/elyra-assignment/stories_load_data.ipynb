{
 "cells": [
  {
   "cell_type": "code",
   "execution_count": 1,
   "id": "8a3608e1-c37b-4b5e-9aa8-b9a8fc926064",
   "metadata": {
    "execution": {
     "iopub.execute_input": "2022-09-01T14:26:42.074953Z",
     "iopub.status.busy": "2022-09-01T14:26:42.074078Z",
     "iopub.status.idle": "2022-09-01T14:26:49.265438Z",
     "shell.execute_reply": "2022-09-01T14:26:49.264533Z"
    },
    "papermill": {
     "duration": 7.203871,
     "end_time": "2022-09-01T14:26:49.267965",
     "exception": false,
     "start_time": "2022-09-01T14:26:42.064094",
     "status": "completed"
    },
    "tags": []
   },
   "outputs": [],
   "source": [
    "from google.cloud import bigquery\n",
    "from google.oauth2 import service_account\n",
    "import pandas as pd \n",
    "import missingno as msno\n",
    "import matplotlib.pyplot as plt\n",
    "import os"
   ]
  },
  {
   "cell_type": "code",
   "execution_count": 2,
   "id": "6476c04a-e9bb-4007-adb1-444744fa1e60",
   "metadata": {
    "execution": {
     "iopub.execute_input": "2022-09-01T14:26:49.274678Z",
     "iopub.status.busy": "2022-09-01T14:26:49.274343Z",
     "iopub.status.idle": "2022-09-01T14:26:49.284751Z",
     "shell.execute_reply": "2022-09-01T14:26:49.283919Z"
    },
    "papermill": {
     "duration": 0.016965,
     "end_time": "2022-09-01T14:26:49.287615",
     "exception": false,
     "start_time": "2022-09-01T14:26:49.270650",
     "status": "completed"
    },
    "tags": []
   },
   "outputs": [],
   "source": [
    "from bigquery_load_data import bq_to_dataframe"
   ]
  },
  {
   "cell_type": "code",
   "execution_count": 3,
   "id": "c800044e-e87c-4629-b41d-b98423e93077",
   "metadata": {
    "execution": {
     "iopub.execute_input": "2022-09-01T14:26:49.295184Z",
     "iopub.status.busy": "2022-09-01T14:26:49.294941Z",
     "iopub.status.idle": "2022-09-01T14:26:49.856374Z",
     "shell.execute_reply": "2022-09-01T14:26:49.853305Z"
    },
    "papermill": {
     "duration": 0.572458,
     "end_time": "2022-09-01T14:26:49.862972",
     "exception": false,
     "start_time": "2022-09-01T14:26:49.290514",
     "status": "completed"
    },
    "tags": []
   },
   "outputs": [
    {
     "name": "stdout",
     "output_type": "stream",
     "text": [
      "\u001b[1m\u001b[36m01-bigquery-notebooks\u001b[m\u001b[m \u001b[1m\u001b[36mcheatsheets\u001b[m\u001b[m           \u001b[1m\u001b[36mimages\u001b[m\u001b[m\r\n",
      "\u001b[1m\u001b[36m02-reproducibility\u001b[m\u001b[m    \u001b[1m\u001b[36mcredentials\u001b[m\u001b[m           requirements.txt\r\n",
      "README.md             \u001b[1m\u001b[36mdvc-data\u001b[m\u001b[m\r\n"
     ]
    }
   ],
   "source": [
    "!ls ../.."
   ]
  },
  {
   "cell_type": "code",
   "execution_count": 4,
   "id": "33da19fd-106f-4af5-a312-b7191dabec42",
   "metadata": {
    "execution": {
     "iopub.execute_input": "2022-09-01T14:26:49.879810Z",
     "iopub.status.busy": "2022-09-01T14:26:49.877645Z",
     "iopub.status.idle": "2022-09-01T14:26:49.884991Z",
     "shell.execute_reply": "2022-09-01T14:26:49.884038Z"
    },
    "papermill": {
     "duration": 0.018676,
     "end_time": "2022-09-01T14:26:49.887452",
     "exception": false,
     "start_time": "2022-09-01T14:26:49.868776",
     "status": "completed"
    },
    "tags": []
   },
   "outputs": [],
   "source": [
    "# Parameters\n",
    "project_id = os.getenv('PROJECT_ID')\n",
    "project = 'bigquery-public-data'\n",
    "dataset = os.getenv('DATASET')\n",
    "credentials_path = '../../credentials/demo-credentials.json'\n",
    "output_path = os.getenv('OUTPUT_PATH')"
   ]
  },
  {
   "cell_type": "code",
   "execution_count": 5,
   "id": "221ff8db-1127-4b9c-845c-2f757821c7a9",
   "metadata": {
    "execution": {
     "iopub.execute_input": "2022-09-01T14:26:49.895555Z",
     "iopub.status.busy": "2022-09-01T14:26:49.895296Z",
     "iopub.status.idle": "2022-09-01T14:26:49.908630Z",
     "shell.execute_reply": "2022-09-01T14:26:49.908068Z"
    },
    "papermill": {
     "duration": 0.019441,
     "end_time": "2022-09-01T14:26:49.910626",
     "exception": false,
     "start_time": "2022-09-01T14:26:49.891185",
     "status": "completed"
    },
    "tags": []
   },
   "outputs": [],
   "source": [
    "credentials = service_account.Credentials.from_service_account_file(credentials_path)"
   ]
  },
  {
   "cell_type": "code",
   "execution_count": 6,
   "id": "fd62804d-bb7d-4d5e-934a-fff2fd242bbd",
   "metadata": {
    "execution": {
     "iopub.execute_input": "2022-09-01T14:26:49.917529Z",
     "iopub.status.busy": "2022-09-01T14:26:49.917293Z",
     "iopub.status.idle": "2022-09-01T14:26:49.920660Z",
     "shell.execute_reply": "2022-09-01T14:26:49.920052Z"
    },
    "papermill": {
     "duration": 0.009391,
     "end_time": "2022-09-01T14:26:49.922551",
     "exception": false,
     "start_time": "2022-09-01T14:26:49.913160",
     "status": "completed"
    },
    "tags": []
   },
   "outputs": [],
   "source": [
    "bq_client = bigquery.Client(\n",
    "    project=project_id,\n",
    "    credentials=credentials,\n",
    ")"
   ]
  },
  {
   "cell_type": "code",
   "execution_count": 7,
   "id": "be38155f-18ed-4a4e-bac0-7283bbdbb11e",
   "metadata": {
    "execution": {
     "iopub.execute_input": "2022-09-01T14:26:49.928970Z",
     "iopub.status.busy": "2022-09-01T14:26:49.928688Z",
     "iopub.status.idle": "2022-09-01T14:27:11.156220Z",
     "shell.execute_reply": "2022-09-01T14:27:11.155292Z"
    },
    "papermill": {
     "duration": 21.233988,
     "end_time": "2022-09-01T14:27:11.158927",
     "exception": false,
     "start_time": "2022-09-01T14:26:49.924939",
     "status": "completed"
    },
    "tags": []
   },
   "outputs": [],
   "source": [
    "full_201510 = bq_to_dataframe(bq_client, \n",
    "    f'''\n",
    "    SELECT\n",
    "        id, \n",
    "        `by`,\n",
    "        type,\n",
    "        TIMESTAMP_SECONDS(time) AS time_ts,\n",
    "        title, \n",
    "        parent,\n",
    "        descendants,\n",
    "        score,\n",
    "        ranking,\n",
    "        dead,\n",
    "        deleted\n",
    "    FROM `{project}.{dataset}.full_201510`\n",
    "    TABLESAMPLE SYSTEM (1 PERCENT)\n",
    "    '''\n",
    "    )"
   ]
  },
  {
   "cell_type": "code",
   "execution_count": 8,
   "id": "016e5b10-317c-4f1f-8f2f-6fc92b8d32f0",
   "metadata": {
    "execution": {
     "iopub.execute_input": "2022-09-01T14:27:11.166302Z",
     "iopub.status.busy": "2022-09-01T14:27:11.165968Z",
     "iopub.status.idle": "2022-09-01T14:27:13.538524Z",
     "shell.execute_reply": "2022-09-01T14:27:13.537340Z"
    },
    "papermill": {
     "duration": 2.379308,
     "end_time": "2022-09-01T14:27:13.541095",
     "exception": false,
     "start_time": "2022-09-01T14:27:11.161787",
     "status": "completed"
    },
    "tags": []
   },
   "outputs": [],
   "source": [
    "full_201510.to_csv(output_path, index=False)"
   ]
  },
  {
   "cell_type": "code",
   "execution_count": null,
   "id": "9331789c-2a18-4c3e-9718-387ee4dceacc",
   "metadata": {
    "papermill": {
     "duration": 0.00235,
     "end_time": "2022-09-01T14:27:13.546065",
     "exception": false,
     "start_time": "2022-09-01T14:27:13.543715",
     "status": "completed"
    },
    "tags": []
   },
   "outputs": [],
   "source": []
  }
 ],
 "metadata": {
  "kernelspec": {
   "display_name": "Python 3 (ipykernel)",
   "language": "python",
   "name": "python3"
  },
  "language_info": {
   "codemirror_mode": {
    "name": "ipython",
    "version": 3
   },
   "file_extension": ".py",
   "mimetype": "text/x-python",
   "name": "python",
   "nbconvert_exporter": "python",
   "pygments_lexer": "ipython3",
   "version": "3.9.12"
  },
  "papermill": {
   "default_parameters": {},
   "duration": 33.72893,
   "end_time": "2022-09-01T14:27:13.971575",
   "environment_variables": {},
   "exception": null,
   "input_path": "/Users/anhdang/Developer/analytics-training-samples/02-reproducibility/elyra-assignment/stories_load_data.ipynb",
   "output_path": "/Users/anhdang/Developer/analytics-training-samples/02-reproducibility/elyra-assignment/stories_load_data.ipynb",
   "parameters": {},
   "start_time": "2022-09-01T14:26:40.242645",
   "version": "2.4.0"
  }
 },
 "nbformat": 4,
 "nbformat_minor": 5
}