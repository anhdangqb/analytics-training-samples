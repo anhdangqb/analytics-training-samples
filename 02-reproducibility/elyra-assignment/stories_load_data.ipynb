{
 "cells": [
  {
   "cell_type": "code",
   "execution_count": 1,
   "id": "8a3608e1-c37b-4b5e-9aa8-b9a8fc926064",
   "metadata": {
    "execution": {
     "iopub.execute_input": "2022-08-30T21:52:27.614940Z",
     "iopub.status.busy": "2022-08-30T21:52:27.614554Z",
     "iopub.status.idle": "2022-08-30T21:52:30.930071Z",
     "shell.execute_reply": "2022-08-30T21:52:30.929014Z"
    },
    "papermill": {
     "duration": 3.326572,
     "end_time": "2022-08-30T21:52:30.933237",
     "exception": false,
     "start_time": "2022-08-30T21:52:27.606665",
     "status": "completed"
    },
    "tags": []
   },
   "outputs": [],
   "source": [
    "from google.cloud import bigquery\n",
    "from google.oauth2 import service_account\n",
    "import pandas as pd \n",
    "import missingno as msno\n",
    "import matplotlib.pyplot as plt\n",
    "import os"
   ]
  },
  {
   "cell_type": "code",
   "execution_count": 2,
   "id": "6476c04a-e9bb-4007-adb1-444744fa1e60",
   "metadata": {
    "execution": {
     "iopub.execute_input": "2022-08-30T21:52:30.939461Z",
     "iopub.status.busy": "2022-08-30T21:52:30.939247Z",
     "iopub.status.idle": "2022-08-30T21:52:30.943826Z",
     "shell.execute_reply": "2022-08-30T21:52:30.943131Z"
    },
    "papermill": {
     "duration": 0.010268,
     "end_time": "2022-08-30T21:52:30.946286",
     "exception": false,
     "start_time": "2022-08-30T21:52:30.936018",
     "status": "completed"
    },
    "tags": []
   },
   "outputs": [],
   "source": [
    "from bigquery_load_data import bq_to_dataframe"
   ]
  },
  {
   "cell_type": "code",
   "execution_count": 3,
   "id": "c800044e-e87c-4629-b41d-b98423e93077",
   "metadata": {
    "execution": {
     "iopub.execute_input": "2022-08-30T21:52:30.954214Z",
     "iopub.status.busy": "2022-08-30T21:52:30.953936Z",
     "iopub.status.idle": "2022-08-30T21:52:31.095163Z",
     "shell.execute_reply": "2022-08-30T21:52:31.094043Z"
    },
    "papermill": {
     "duration": 0.150611,
     "end_time": "2022-08-30T21:52:31.100888",
     "exception": false,
     "start_time": "2022-08-30T21:52:30.950277",
     "status": "completed"
    },
    "tags": []
   },
   "outputs": [
    {
     "name": "stdout",
     "output_type": "stream",
     "text": [
      "\u001b[1m\u001b[36m01-bigquery-notebooks\u001b[m\u001b[m \u001b[1m\u001b[36mcheatsheets\u001b[m\u001b[m           requirements.txt\r\n",
      "\u001b[1m\u001b[36m02-reproducibility\u001b[m\u001b[m    \u001b[1m\u001b[36mcredentials\u001b[m\u001b[m\r\n",
      "README.md             \u001b[1m\u001b[36mdvc-data\u001b[m\u001b[m\r\n"
     ]
    }
   ],
   "source": [
    "!ls ../.."
   ]
  },
  {
   "cell_type": "code",
   "execution_count": 4,
   "id": "33da19fd-106f-4af5-a312-b7191dabec42",
   "metadata": {
    "execution": {
     "iopub.execute_input": "2022-08-30T21:52:31.109934Z",
     "iopub.status.busy": "2022-08-30T21:52:31.109631Z",
     "iopub.status.idle": "2022-08-30T21:52:31.118967Z",
     "shell.execute_reply": "2022-08-30T21:52:31.116992Z"
    },
    "papermill": {
     "duration": 0.018204,
     "end_time": "2022-08-30T21:52:31.123067",
     "exception": false,
     "start_time": "2022-08-30T21:52:31.104863",
     "status": "completed"
    },
    "tags": []
   },
   "outputs": [],
   "source": [
    "# Parameters\n",
    "project_id = os.getenv('PROJECT_ID')\n",
    "project = 'bigquery-public-data'\n",
    "dataset = os.getenv('DATASET')\n",
    "credentials_path = '../../credentials/demo-credentials.json'\n",
    "output_path = os.getenv('OUTPUT_PATH')"
   ]
  },
  {
   "cell_type": "code",
   "execution_count": 5,
   "id": "221ff8db-1127-4b9c-845c-2f757821c7a9",
   "metadata": {
    "execution": {
     "iopub.execute_input": "2022-08-30T21:52:31.132552Z",
     "iopub.status.busy": "2022-08-30T21:52:31.131827Z",
     "iopub.status.idle": "2022-08-30T21:52:31.145567Z",
     "shell.execute_reply": "2022-08-30T21:52:31.144518Z"
    },
    "papermill": {
     "duration": 0.023247,
     "end_time": "2022-08-30T21:52:31.150166",
     "exception": false,
     "start_time": "2022-08-30T21:52:31.126919",
     "status": "completed"
    },
    "tags": []
   },
   "outputs": [],
   "source": [
    "credentials = service_account.Credentials.from_service_account_file(credentials_path)"
   ]
  },
  {
   "cell_type": "code",
   "execution_count": 6,
   "id": "fd62804d-bb7d-4d5e-934a-fff2fd242bbd",
   "metadata": {
    "execution": {
     "iopub.execute_input": "2022-08-30T21:52:31.157380Z",
     "iopub.status.busy": "2022-08-30T21:52:31.157089Z",
     "iopub.status.idle": "2022-08-30T21:52:31.161729Z",
     "shell.execute_reply": "2022-08-30T21:52:31.160704Z"
    },
    "papermill": {
     "duration": 0.012954,
     "end_time": "2022-08-30T21:52:31.166045",
     "exception": false,
     "start_time": "2022-08-30T21:52:31.153091",
     "status": "completed"
    },
    "tags": []
   },
   "outputs": [],
   "source": [
    "bq_client = bigquery.Client(\n",
    "    project=project_id,\n",
    "    credentials=credentials,\n",
    ")"
   ]
  },
  {
   "cell_type": "code",
   "execution_count": 7,
   "id": "be38155f-18ed-4a4e-bac0-7283bbdbb11e",
   "metadata": {
    "execution": {
     "iopub.execute_input": "2022-08-30T21:52:31.174940Z",
     "iopub.status.busy": "2022-08-30T21:52:31.174703Z",
     "iopub.status.idle": "2022-08-30T21:52:45.300668Z",
     "shell.execute_reply": "2022-08-30T21:52:45.299471Z"
    },
    "papermill": {
     "duration": 14.133502,
     "end_time": "2022-08-30T21:52:45.303372",
     "exception": false,
     "start_time": "2022-08-30T21:52:31.169870",
     "status": "completed"
    },
    "tags": []
   },
   "outputs": [],
   "source": [
    "full_201510 = bq_to_dataframe(bq_client, \n",
    "    f'''\n",
    "    SELECT\n",
    "        id, \n",
    "        `by`,\n",
    "        type,\n",
    "        TIMESTAMP_SECONDS(time) AS time_ts,\n",
    "        title, \n",
    "        parent,\n",
    "        descendants,\n",
    "        score,\n",
    "        ranking,\n",
    "        dead,\n",
    "        deleted\n",
    "    FROM `{project}.{dataset}.full_201510`\n",
    "    TABLESAMPLE SYSTEM (1 PERCENT)\n",
    "    '''\n",
    "    )"
   ]
  },
  {
   "cell_type": "code",
   "execution_count": 8,
   "id": "016e5b10-317c-4f1f-8f2f-6fc92b8d32f0",
   "metadata": {
    "execution": {
     "iopub.execute_input": "2022-08-30T21:52:45.311119Z",
     "iopub.status.busy": "2022-08-30T21:52:45.310803Z",
     "iopub.status.idle": "2022-08-30T21:52:48.713626Z",
     "shell.execute_reply": "2022-08-30T21:52:48.712699Z"
    },
    "papermill": {
     "duration": 3.409883,
     "end_time": "2022-08-30T21:52:48.716408",
     "exception": false,
     "start_time": "2022-08-30T21:52:45.306525",
     "status": "completed"
    },
    "tags": []
   },
   "outputs": [],
   "source": [
    "full_201510.to_csv(output_path, index=False)"
   ]
  },
  {
   "cell_type": "code",
   "execution_count": null,
   "id": "9331789c-2a18-4c3e-9718-387ee4dceacc",
   "metadata": {
    "papermill": {
     "duration": 0.002458,
     "end_time": "2022-08-30T21:52:48.722236",
     "exception": false,
     "start_time": "2022-08-30T21:52:48.719778",
     "status": "completed"
    },
    "tags": []
   },
   "outputs": [],
   "source": []
  }
 ],
 "metadata": {
  "kernelspec": {
   "display_name": "PyCharm (analytics-training-samples)",
   "language": "python",
   "name": "pycharm-7106473a"
  },
  "language_info": {
   "codemirror_mode": {
    "name": "ipython",
    "version": 3
   },
   "file_extension": ".py",
   "mimetype": "text/x-python",
   "name": "python",
   "nbconvert_exporter": "python",
   "pygments_lexer": "ipython3",
   "version": "3.9.12"
  },
  "papermill": {
   "default_parameters": {},
   "duration": 24.631963,
   "end_time": "2022-08-30T21:52:49.245820",
   "environment_variables": {},
   "exception": null,
   "input_path": "/Users/anhdang/Developer/analytics-training-samples/02-reproducibility/elyra-assignment/stories_load_data.ipynb",
   "output_path": "/Users/anhdang/Developer/analytics-training-samples/02-reproducibility/elyra-assignment/stories_load_data.ipynb",
   "parameters": {},
   "start_time": "2022-08-30T21:52:24.613857",
   "version": "2.4.0"
  }
 },
 "nbformat": 4,
 "nbformat_minor": 5
}