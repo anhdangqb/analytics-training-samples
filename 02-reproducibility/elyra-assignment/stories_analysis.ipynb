{
 "cells": [
  {
   "cell_type": "markdown",
   "id": "9b7a795e-c4ec-41c3-acf6-055169fe1933",
   "metadata": {
    "papermill": {
     "duration": 0.003407,
     "end_time": "2022-09-01T05:17:59.645973",
     "exception": false,
     "start_time": "2022-09-01T05:17:59.642566",
     "status": "completed"
    },
    "tags": []
   },
   "source": [
    "## Analysis\n",
    "\n",
    "Now, we create very simple analysis on the cleaned data"
   ]
  },
  {
   "cell_type": "code",
   "execution_count": 1,
   "id": "c3fcf944-01d5-4868-90d0-59f5677fdeb2",
   "metadata": {
    "execution": {
     "iopub.execute_input": "2022-09-01T05:17:59.654451Z",
     "iopub.status.busy": "2022-09-01T05:17:59.653976Z",
     "iopub.status.idle": "2022-09-01T05:18:00.722420Z",
     "shell.execute_reply": "2022-09-01T05:18:00.721399Z"
    },
    "papermill": {
     "duration": 1.076192,
     "end_time": "2022-09-01T05:18:00.725280",
     "exception": false,
     "start_time": "2022-09-01T05:17:59.649088",
     "status": "completed"
    },
    "tags": []
   },
   "outputs": [],
   "source": [
    "import pandas as pd\n",
    "import matplotlib.pyplot as plt\n",
    "import os"
   ]
  },
  {
   "cell_type": "code",
   "execution_count": 2,
   "id": "7691bb43-85b1-4534-8b23-f5b6731b81b4",
   "metadata": {
    "execution": {
     "iopub.execute_input": "2022-09-01T05:18:00.732194Z",
     "iopub.status.busy": "2022-09-01T05:18:00.731881Z",
     "iopub.status.idle": "2022-09-01T05:18:00.735720Z",
     "shell.execute_reply": "2022-09-01T05:18:00.734906Z"
    },
    "papermill": {
     "duration": 0.009791,
     "end_time": "2022-09-01T05:18:00.737742",
     "exception": false,
     "start_time": "2022-09-01T05:18:00.727951",
     "status": "completed"
    },
    "tags": []
   },
   "outputs": [],
   "source": [
    "# parameters\n",
    "input_data_path = os.getenv('INPUT_PATH')"
   ]
  },
  {
   "cell_type": "markdown",
   "id": "7ea0796e-b56c-4a69-a45c-aa09c298d80c",
   "metadata": {
    "papermill": {
     "duration": 0.002181,
     "end_time": "2022-09-01T05:18:00.742382",
     "exception": false,
     "start_time": "2022-09-01T05:18:00.740201",
     "status": "completed"
    },
    "tags": []
   },
   "source": [
    "## Load data"
   ]
  },
  {
   "cell_type": "code",
   "execution_count": 3,
   "id": "1a56ffd8-2306-470f-9be0-0676808442df",
   "metadata": {
    "execution": {
     "iopub.execute_input": "2022-09-01T05:18:00.748128Z",
     "iopub.status.busy": "2022-09-01T05:18:00.747856Z",
     "iopub.status.idle": "2022-09-01T05:18:00.869234Z",
     "shell.execute_reply": "2022-09-01T05:18:00.868066Z"
    },
    "papermill": {
     "duration": 0.127866,
     "end_time": "2022-09-01T05:18:00.872327",
     "exception": false,
     "start_time": "2022-09-01T05:18:00.744461",
     "status": "completed"
    },
    "tags": []
   },
   "outputs": [],
   "source": [
    "data = pd.read_csv(input_data_path)"
   ]
  },
  {
   "cell_type": "code",
   "execution_count": 4,
   "id": "f7455a21-9b27-4bbf-88c1-9e93e5952d43",
   "metadata": {
    "execution": {
     "iopub.execute_input": "2022-09-01T05:18:00.879070Z",
     "iopub.status.busy": "2022-09-01T05:18:00.878734Z",
     "iopub.status.idle": "2022-09-01T05:18:00.912718Z",
     "shell.execute_reply": "2022-09-01T05:18:00.912017Z"
    },
    "papermill": {
     "duration": 0.039855,
     "end_time": "2022-09-01T05:18:00.914866",
     "exception": false,
     "start_time": "2022-09-01T05:18:00.875011",
     "status": "completed"
    },
    "tags": []
   },
   "outputs": [
    {
     "data": {
      "text/html": [
       "<div>\n",
       "<style scoped>\n",
       "    .dataframe tbody tr th:only-of-type {\n",
       "        vertical-align: middle;\n",
       "    }\n",
       "\n",
       "    .dataframe tbody tr th {\n",
       "        vertical-align: top;\n",
       "    }\n",
       "\n",
       "    .dataframe thead th {\n",
       "        text-align: right;\n",
       "    }\n",
       "</style>\n",
       "<table border=\"1\" class=\"dataframe\">\n",
       "  <thead>\n",
       "    <tr style=\"text-align: right;\">\n",
       "      <th></th>\n",
       "      <th>id</th>\n",
       "      <th>descendants</th>\n",
       "      <th>score</th>\n",
       "    </tr>\n",
       "  </thead>\n",
       "  <tbody>\n",
       "    <tr>\n",
       "      <th>count</th>\n",
       "      <td>5.525100e+04</td>\n",
       "      <td>55251.000000</td>\n",
       "      <td>55251.000000</td>\n",
       "    </tr>\n",
       "    <tr>\n",
       "      <th>mean</th>\n",
       "      <td>4.913150e+06</td>\n",
       "      <td>4.305406</td>\n",
       "      <td>10.330039</td>\n",
       "    </tr>\n",
       "    <tr>\n",
       "      <th>std</th>\n",
       "      <td>2.986861e+06</td>\n",
       "      <td>19.833633</td>\n",
       "      <td>38.479919</td>\n",
       "    </tr>\n",
       "    <tr>\n",
       "      <th>min</th>\n",
       "      <td>5.200000e+01</td>\n",
       "      <td>-1.000000</td>\n",
       "      <td>0.000000</td>\n",
       "    </tr>\n",
       "    <tr>\n",
       "      <th>25%</th>\n",
       "      <td>2.467078e+06</td>\n",
       "      <td>0.000000</td>\n",
       "      <td>1.000000</td>\n",
       "    </tr>\n",
       "    <tr>\n",
       "      <th>50%</th>\n",
       "      <td>4.580603e+06</td>\n",
       "      <td>0.000000</td>\n",
       "      <td>2.000000</td>\n",
       "    </tr>\n",
       "    <tr>\n",
       "      <th>75%</th>\n",
       "      <td>7.539836e+06</td>\n",
       "      <td>0.000000</td>\n",
       "      <td>3.000000</td>\n",
       "    </tr>\n",
       "    <tr>\n",
       "      <th>max</th>\n",
       "      <td>1.037898e+07</td>\n",
       "      <td>500.000000</td>\n",
       "      <td>1131.000000</td>\n",
       "    </tr>\n",
       "  </tbody>\n",
       "</table>\n",
       "</div>"
      ],
      "text/plain": [
       "                 id   descendants         score\n",
       "count  5.525100e+04  55251.000000  55251.000000\n",
       "mean   4.913150e+06      4.305406     10.330039\n",
       "std    2.986861e+06     19.833633     38.479919\n",
       "min    5.200000e+01     -1.000000      0.000000\n",
       "25%    2.467078e+06      0.000000      1.000000\n",
       "50%    4.580603e+06      0.000000      2.000000\n",
       "75%    7.539836e+06      0.000000      3.000000\n",
       "max    1.037898e+07    500.000000   1131.000000"
      ]
     },
     "execution_count": 4,
     "metadata": {},
     "output_type": "execute_result"
    }
   ],
   "source": [
    "data.describe()"
   ]
  },
  {
   "cell_type": "markdown",
   "id": "08cb322a-f7e1-40be-90a5-54c235f11c76",
   "metadata": {
    "papermill": {
     "duration": 0.00267,
     "end_time": "2022-09-01T05:18:00.920367",
     "exception": false,
     "start_time": "2022-09-01T05:18:00.917697",
     "status": "completed"
    },
    "tags": []
   },
   "source": [
    "## Analysis"
   ]
  },
  {
   "cell_type": "code",
   "execution_count": 5,
   "id": "7be4e036-4232-43d0-9a29-43ba551d355b",
   "metadata": {
    "execution": {
     "iopub.execute_input": "2022-09-01T05:18:00.926294Z",
     "iopub.status.busy": "2022-09-01T05:18:00.926042Z",
     "iopub.status.idle": "2022-09-01T05:18:00.976514Z",
     "shell.execute_reply": "2022-09-01T05:18:00.975809Z"
    },
    "papermill": {
     "duration": 0.055809,
     "end_time": "2022-09-01T05:18:00.978505",
     "exception": false,
     "start_time": "2022-09-01T05:18:00.922696",
     "status": "completed"
    },
    "tags": []
   },
   "outputs": [
    {
     "name": "stdout",
     "output_type": "stream",
     "text": [
      "<class 'pandas.core.frame.DataFrame'>\n",
      "RangeIndex: 55251 entries, 0 to 55250\n",
      "Data columns (total 8 columns):\n",
      " #   Column       Non-Null Count  Dtype              \n",
      "---  ------       --------------  -----              \n",
      " 0   id           55251 non-null  int64              \n",
      " 1   by           55251 non-null  object             \n",
      " 2   time_ts      55251 non-null  object             \n",
      " 3   title        55251 non-null  object             \n",
      " 4   descendants  55251 non-null  float64            \n",
      " 5   score        55251 non-null  float64            \n",
      " 6   dead         11453 non-null  object             \n",
      " 7   date         55251 non-null  datetime64[ns, UTC]\n",
      "dtypes: datetime64[ns, UTC](1), float64(2), int64(1), object(4)\n",
      "memory usage: 3.4+ MB\n"
     ]
    }
   ],
   "source": [
    "data['date'] = pd.to_datetime(data.time_ts)\n",
    "data.info()"
   ]
  },
  {
   "cell_type": "code",
   "execution_count": 6,
   "id": "43198bbb-9201-4755-9e4b-115fcf4d15a6",
   "metadata": {
    "execution": {
     "iopub.execute_input": "2022-09-01T05:18:00.985441Z",
     "iopub.status.busy": "2022-09-01T05:18:00.984925Z",
     "iopub.status.idle": "2022-09-01T05:18:01.306551Z",
     "shell.execute_reply": "2022-09-01T05:18:01.305697Z"
    },
    "papermill": {
     "duration": 0.327838,
     "end_time": "2022-09-01T05:18:01.309342",
     "exception": false,
     "start_time": "2022-09-01T05:18:00.981504",
     "status": "completed"
    },
    "tags": []
   },
   "outputs": [
    {
     "data": {
      "image/png": "[encoded data removed]",
      "text/plain": [
       "<Figure size 432x288 with 1 Axes>"
      ]
     },
     "metadata": {
      "needs_background": "light"
     },
     "output_type": "display_data"
    }
   ],
   "source": [
    "# Top 20 popular authors\n",
    "data.groupby('by').descendants.sum().sort_values(ascending=False).head(20).plot.barh();"
   ]
  },
  {
   "cell_type": "code",
   "execution_count": 7,
   "id": "e249ba52-7798-4edd-86b9-8c31d8e6f4bb",
   "metadata": {
    "execution": {
     "iopub.execute_input": "2022-09-01T05:18:01.317619Z",
     "iopub.status.busy": "2022-09-01T05:18:01.317092Z",
     "iopub.status.idle": "2022-09-01T05:18:01.632801Z",
     "shell.execute_reply": "2022-09-01T05:18:01.631968Z"
    },
    "papermill": {
     "duration": 0.322468,
     "end_time": "2022-09-01T05:18:01.634794",
     "exception": false,
     "start_time": "2022-09-01T05:18:01.312326",
     "status": "completed"
    },
    "tags": []
   },
   "outputs": [
    {
     "data": {
      "image/png": "[encoded data removed]",
      "text/plain": [
       "<Figure size 432x288 with 1 Axes>"
      ]
     },
     "metadata": {
      "needs_background": "light"
     },
     "output_type": "display_data"
    }
   ],
   "source": [
    "# Top 20 popular authors\n",
    "data.groupby('title').descendants.sum().sort_values(ascending=False).head(20).plot.barh();"
   ]
  },
  {
   "cell_type": "code",
   "execution_count": null,
   "id": "e176c9b3-b70f-4121-933b-e555c74888b6",
   "metadata": {
    "papermill": {
     "duration": 0.00423,
     "end_time": "2022-09-01T05:18:01.643840",
     "exception": false,
     "start_time": "2022-09-01T05:18:01.639610",
     "status": "completed"
    },
    "tags": []
   },
   "outputs": [],
   "source": []
  }
 ],
 "metadata": {
  "kernelspec": {
   "display_name": "Python 3 (ipykernel)",
   "language": "python",
   "name": "python3"
  },
  "language_info": {
   "codemirror_mode": {
    "name": "ipython",
    "version": 3
   },
   "file_extension": ".py",
   "mimetype": "text/x-python",
   "name": "python",
   "nbconvert_exporter": "python",
   "pygments_lexer": "ipython3",
   "version": "3.9.12"
  },
  "papermill": {
   "default_parameters": {},
   "duration": 3.834568,
   "end_time": "2022-09-01T05:18:01.975413",
   "environment_variables": {},
   "exception": null,
   "input_path": "/Users/anhdang/Developer/analytics-training-samples/02-reproducibility/elyra-assignment/stories_analysis.ipynb",
   "output_path": "/Users/anhdang/Developer/analytics-training-samples/02-reproducibility/elyra-assignment/stories_analysis.ipynb",
   "parameters": {},
   "start_time": "2022-09-01T05:17:58.140845",
   "version": "2.4.0"
  }
 },
 "nbformat": 4,
 "nbformat_minor": 5
}
