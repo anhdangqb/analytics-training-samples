{
 "cells": [
  {
   "cell_type": "markdown",
   "id": "9b7a795e-c4ec-41c3-acf6-055169fe1933",
   "metadata": {
    "papermill": {
     "duration": 0.007225,
     "end_time": "2022-08-30T21:53:03.804507",
     "exception": false,
     "start_time": "2022-08-30T21:53:03.797282",
     "status": "completed"
    },
    "tags": []
   },
   "source": [
    "## Analysis\n",
    "\n",
    "Now, we create very simple analysis on the cleaned data"
   ]
  },
  {
   "cell_type": "code",
   "execution_count": 1,
   "id": "c3fcf944-01d5-4868-90d0-59f5677fdeb2",
   "metadata": {
    "execution": {
     "iopub.execute_input": "2022-08-30T21:53:03.818211Z",
     "iopub.status.busy": "2022-08-30T21:53:03.817281Z",
     "iopub.status.idle": "2022-08-30T21:53:05.741864Z",
     "shell.execute_reply": "2022-08-30T21:53:05.740757Z"
    },
    "papermill": {
     "duration": 1.934582,
     "end_time": "2022-08-30T21:53:05.744566",
     "exception": false,
     "start_time": "2022-08-30T21:53:03.809984",
     "status": "completed"
    },
    "tags": []
   },
   "outputs": [],
   "source": [
    "import pandas as pd\n",
    "import matplotlib.pyplot as plt\n",
    "import os"
   ]
  },
  {
   "cell_type": "code",
   "execution_count": 2,
   "id": "7691bb43-85b1-4534-8b23-f5b6731b81b4",
   "metadata": {
    "execution": {
     "iopub.execute_input": "2022-08-30T21:53:05.753208Z",
     "iopub.status.busy": "2022-08-30T21:53:05.752846Z",
     "iopub.status.idle": "2022-08-30T21:53:05.758205Z",
     "shell.execute_reply": "2022-08-30T21:53:05.756972Z"
    },
    "papermill": {
     "duration": 0.014039,
     "end_time": "2022-08-30T21:53:05.761465",
     "exception": false,
     "start_time": "2022-08-30T21:53:05.747426",
     "status": "completed"
    },
    "tags": []
   },
   "outputs": [],
   "source": [
    "# parameters\n",
    "input_data_path = os.getenv('INPUT_PATH')"
   ]
  },
  {
   "cell_type": "markdown",
   "id": "7ea0796e-b56c-4a69-a45c-aa09c298d80c",
   "metadata": {
    "papermill": {
     "duration": 0.003733,
     "end_time": "2022-08-30T21:53:05.767892",
     "exception": false,
     "start_time": "2022-08-30T21:53:05.764159",
     "status": "completed"
    },
    "tags": []
   },
   "source": [
    "## Load data"
   ]
  },
  {
   "cell_type": "code",
   "execution_count": 3,
   "id": "1a56ffd8-2306-470f-9be0-0676808442df",
   "metadata": {
    "execution": {
     "iopub.execute_input": "2022-08-30T21:53:05.776242Z",
     "iopub.status.busy": "2022-08-30T21:53:05.775888Z",
     "iopub.status.idle": "2022-08-30T21:53:05.965033Z",
     "shell.execute_reply": "2022-08-30T21:53:05.963915Z"
    },
    "papermill": {
     "duration": 0.196848,
     "end_time": "2022-08-30T21:53:05.967819",
     "exception": false,
     "start_time": "2022-08-30T21:53:05.770971",
     "status": "completed"
    },
    "tags": []
   },
   "outputs": [],
   "source": [
    "data = pd.read_csv(input_data_path)"
   ]
  },
  {
   "cell_type": "code",
   "execution_count": 4,
   "id": "f7455a21-9b27-4bbf-88c1-9e93e5952d43",
   "metadata": {
    "execution": {
     "iopub.execute_input": "2022-08-30T21:53:05.988587Z",
     "iopub.status.busy": "2022-08-30T21:53:05.988127Z",
     "iopub.status.idle": "2022-08-30T21:53:06.026661Z",
     "shell.execute_reply": "2022-08-30T21:53:06.025782Z"
    },
    "papermill": {
     "duration": 0.05004,
     "end_time": "2022-08-30T21:53:06.029515",
     "exception": false,
     "start_time": "2022-08-30T21:53:05.979475",
     "status": "completed"
    },
    "tags": []
   },
   "outputs": [
    {
     "data": {
      "text/html": [
       "<div>\n",
       "<style scoped>\n",
       "    .dataframe tbody tr th:only-of-type {\n",
       "        vertical-align: middle;\n",
       "    }\n",
       "\n",
       "    .dataframe tbody tr th {\n",
       "        vertical-align: top;\n",
       "    }\n",
       "\n",
       "    .dataframe thead th {\n",
       "        text-align: right;\n",
       "    }\n",
       "</style>\n",
       "<table border=\"1\" class=\"dataframe\">\n",
       "  <thead>\n",
       "    <tr style=\"text-align: right;\">\n",
       "      <th></th>\n",
       "      <th>id</th>\n",
       "      <th>descendants</th>\n",
       "      <th>score</th>\n",
       "    </tr>\n",
       "  </thead>\n",
       "  <tbody>\n",
       "    <tr>\n",
       "      <th>count</th>\n",
       "      <td>5.537200e+04</td>\n",
       "      <td>55372.000000</td>\n",
       "      <td>55372.000000</td>\n",
       "    </tr>\n",
       "    <tr>\n",
       "      <th>mean</th>\n",
       "      <td>4.945870e+06</td>\n",
       "      <td>4.164199</td>\n",
       "      <td>10.349599</td>\n",
       "    </tr>\n",
       "    <tr>\n",
       "      <th>std</th>\n",
       "      <td>2.994344e+06</td>\n",
       "      <td>18.967119</td>\n",
       "      <td>41.075880</td>\n",
       "    </tr>\n",
       "    <tr>\n",
       "      <th>min</th>\n",
       "      <td>1.300000e+01</td>\n",
       "      <td>-1.000000</td>\n",
       "      <td>0.000000</td>\n",
       "    </tr>\n",
       "    <tr>\n",
       "      <th>25%</th>\n",
       "      <td>2.491919e+06</td>\n",
       "      <td>0.000000</td>\n",
       "      <td>1.000000</td>\n",
       "    </tr>\n",
       "    <tr>\n",
       "      <th>50%</th>\n",
       "      <td>4.638498e+06</td>\n",
       "      <td>0.000000</td>\n",
       "      <td>2.000000</td>\n",
       "    </tr>\n",
       "    <tr>\n",
       "      <th>75%</th>\n",
       "      <td>7.570837e+06</td>\n",
       "      <td>0.000000</td>\n",
       "      <td>3.000000</td>\n",
       "    </tr>\n",
       "    <tr>\n",
       "      <th>max</th>\n",
       "      <td>1.037919e+07</td>\n",
       "      <td>684.000000</td>\n",
       "      <td>2088.000000</td>\n",
       "    </tr>\n",
       "  </tbody>\n",
       "</table>\n",
       "</div>"
      ],
      "text/plain": [
       "                 id   descendants         score\n",
       "count  5.537200e+04  55372.000000  55372.000000\n",
       "mean   4.945870e+06      4.164199     10.349599\n",
       "std    2.994344e+06     18.967119     41.075880\n",
       "min    1.300000e+01     -1.000000      0.000000\n",
       "25%    2.491919e+06      0.000000      1.000000\n",
       "50%    4.638498e+06      0.000000      2.000000\n",
       "75%    7.570837e+06      0.000000      3.000000\n",
       "max    1.037919e+07    684.000000   2088.000000"
      ]
     },
     "execution_count": 4,
     "metadata": {},
     "output_type": "execute_result"
    }
   ],
   "source": [
    "data.describe()"
   ]
  },
  {
   "cell_type": "markdown",
   "id": "08cb322a-f7e1-40be-90a5-54c235f11c76",
   "metadata": {
    "papermill": {
     "duration": 0.002861,
     "end_time": "2022-08-30T21:53:06.035745",
     "exception": false,
     "start_time": "2022-08-30T21:53:06.032884",
     "status": "completed"
    },
    "tags": []
   },
   "source": [
    "## Analysis"
   ]
  },
  {
   "cell_type": "code",
   "execution_count": 5,
   "id": "7be4e036-4232-43d0-9a29-43ba551d355b",
   "metadata": {
    "execution": {
     "iopub.execute_input": "2022-08-30T21:53:06.043986Z",
     "iopub.status.busy": "2022-08-30T21:53:06.043686Z",
     "iopub.status.idle": "2022-08-30T21:53:06.123140Z",
     "shell.execute_reply": "2022-08-30T21:53:06.122115Z"
    },
    "papermill": {
     "duration": 0.086023,
     "end_time": "2022-08-30T21:53:06.125495",
     "exception": false,
     "start_time": "2022-08-30T21:53:06.039472",
     "status": "completed"
    },
    "tags": []
   },
   "outputs": [
    {
     "name": "stdout",
     "output_type": "stream",
     "text": [
      "<class 'pandas.core.frame.DataFrame'>\n",
      "RangeIndex: 55372 entries, 0 to 55371\n",
      "Data columns (total 8 columns):\n",
      " #   Column       Non-Null Count  Dtype              \n",
      "---  ------       --------------  -----              \n",
      " 0   id           55372 non-null  int64              \n",
      " 1   by           55372 non-null  object             \n",
      " 2   time_ts      55372 non-null  object             \n",
      " 3   title        55372 non-null  object             \n",
      " 4   descendants  55372 non-null  float64            \n",
      " 5   score        55372 non-null  float64            \n",
      " 6   dead         11618 non-null  object             \n",
      " 7   date         55372 non-null  datetime64[ns, UTC]\n",
      "dtypes: datetime64[ns, UTC](1), float64(2), int64(1), object(4)\n",
      "memory usage: 3.4+ MB\n"
     ]
    }
   ],
   "source": [
    "data['date'] = pd.to_datetime(data.time_ts)\n",
    "data.info()"
   ]
  },
  {
   "cell_type": "code",
   "execution_count": 6,
   "id": "43198bbb-9201-4755-9e4b-115fcf4d15a6",
   "metadata": {
    "execution": {
     "iopub.execute_input": "2022-08-30T21:53:06.133764Z",
     "iopub.status.busy": "2022-08-30T21:53:06.133414Z",
     "iopub.status.idle": "2022-08-30T21:53:06.500537Z",
     "shell.execute_reply": "2022-08-30T21:53:06.499569Z"
    },
    "papermill": {
     "duration": 0.374904,
     "end_time": "2022-08-30T21:53:06.503498",
     "exception": false,
     "start_time": "2022-08-30T21:53:06.128594",
     "status": "completed"
    },
    "tags": []
   },
   "outputs": [
    {
     "data": {
      "image/png": "[encoded data removed]",
      "text/plain": [
       "<Figure size 432x288 with 1 Axes>"
      ]
     },
     "metadata": {
      "needs_background": "light"
     },
     "output_type": "display_data"
    }
   ],
   "source": [
    "# Top 20 popular authors\n",
    "data.groupby('by').descendants.sum().sort_values(ascending=False).head(20).plot.barh();"
   ]
  },
  {
   "cell_type": "code",
   "execution_count": 7,
   "id": "e249ba52-7798-4edd-86b9-8c31d8e6f4bb",
   "metadata": {
    "execution": {
     "iopub.execute_input": "2022-08-30T21:53:06.512586Z",
     "iopub.status.busy": "2022-08-30T21:53:06.512280Z",
     "iopub.status.idle": "2022-08-30T21:53:07.192922Z",
     "shell.execute_reply": "2022-08-30T21:53:07.191841Z"
    },
    "papermill": {
     "duration": 0.688661,
     "end_time": "2022-08-30T21:53:07.196177",
     "exception": false,
     "start_time": "2022-08-30T21:53:06.507516",
     "status": "completed"
    },
    "tags": []
   },
   "outputs": [
    {
     "data": {
      "image/png": "[encoded data removed]",
      "text/plain": [
       "<Figure size 432x288 with 1 Axes>"
      ]
     },
     "metadata": {
      "needs_background": "light"
     },
     "output_type": "display_data"
    }
   ],
   "source": [
    "# Top 20 popular authors\n",
    "data.groupby('title').descendants.sum().sort_values(ascending=False).head(20).plot.barh();"
   ]
  },
  {
   "cell_type": "code",
   "execution_count": null,
   "id": "e176c9b3-b70f-4121-933b-e555c74888b6",
   "metadata": {
    "papermill": {
     "duration": 0.00488,
     "end_time": "2022-08-30T21:53:07.205581",
     "exception": false,
     "start_time": "2022-08-30T21:53:07.200701",
     "status": "completed"
    },
    "tags": []
   },
   "outputs": [],
   "source": []
  }
 ],
 "metadata": {
  "kernelspec": {
   "display_name": "PyCharm (analytics-training-samples)",
   "language": "python",
   "name": "pycharm-7106473a"
  },
  "language_info": {
   "codemirror_mode": {
    "name": "ipython",
    "version": 3
   },
   "file_extension": ".py",
   "mimetype": "text/x-python",
   "name": "python",
   "nbconvert_exporter": "python",
   "pygments_lexer": "ipython3",
   "version": "3.9.12"
  },
  "papermill": {
   "default_parameters": {},
   "duration": 6.442558,
   "end_time": "2022-08-30T21:53:07.633035",
   "environment_variables": {},
   "exception": null,
   "input_path": "/Users/anhdang/Developer/analytics-training-samples/02-reproducibility/elyra-assignment/stories_analysis.ipynb",
   "output_path": "/Users/anhdang/Developer/analytics-training-samples/02-reproducibility/elyra-assignment/stories_analysis.ipynb",
   "parameters": {},
   "start_time": "2022-08-30T21:53:01.190477",
   "version": "2.4.0"
  }
 },
 "nbformat": 4,
 "nbformat_minor": 5
}