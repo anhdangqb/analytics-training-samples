{
 "cells": [
  {
   "cell_type": "markdown",
   "id": "9b7a795e-c4ec-41c3-acf6-055169fe1933",
   "metadata": {
    "papermill": {
     "duration": 0.003013,
     "end_time": "2022-09-01T14:27:24.117112",
     "exception": false,
     "start_time": "2022-09-01T14:27:24.114099",
     "status": "completed"
    },
    "tags": []
   },
   "source": [
    "## Analysis\n",
    "\n",
    "Now, we create very simple analysis on the cleaned data"
   ]
  },
  {
   "cell_type": "code",
   "execution_count": 1,
   "id": "c3fcf944-01d5-4868-90d0-59f5677fdeb2",
   "metadata": {
    "execution": {
     "iopub.execute_input": "2022-09-01T14:27:24.125708Z",
     "iopub.status.busy": "2022-09-01T14:27:24.125197Z",
     "iopub.status.idle": "2022-09-01T14:27:25.286163Z",
     "shell.execute_reply": "2022-09-01T14:27:25.285558Z"
    },
    "papermill": {
     "duration": 1.167788,
     "end_time": "2022-09-01T14:27:25.288338",
     "exception": false,
     "start_time": "2022-09-01T14:27:24.120550",
     "status": "completed"
    },
    "tags": []
   },
   "outputs": [],
   "source": [
    "import pandas as pd\n",
    "import matplotlib.pyplot as plt\n",
    "import os"
   ]
  },
  {
   "cell_type": "code",
   "execution_count": 2,
   "id": "7691bb43-85b1-4534-8b23-f5b6731b81b4",
   "metadata": {
    "execution": {
     "iopub.execute_input": "2022-09-01T14:27:25.300781Z",
     "iopub.status.busy": "2022-09-01T14:27:25.300485Z",
     "iopub.status.idle": "2022-09-01T14:27:25.305010Z",
     "shell.execute_reply": "2022-09-01T14:27:25.303830Z"
    },
    "papermill": {
     "duration": 0.017428,
     "end_time": "2022-09-01T14:27:25.308881",
     "exception": false,
     "start_time": "2022-09-01T14:27:25.291453",
     "status": "completed"
    },
    "tags": []
   },
   "outputs": [],
   "source": [
    "# parameters\n",
    "input_data_path = os.getenv('INPUT_PATH')"
   ]
  },
  {
   "cell_type": "markdown",
   "id": "7ea0796e-b56c-4a69-a45c-aa09c298d80c",
   "metadata": {
    "papermill": {
     "duration": 0.00292,
     "end_time": "2022-09-01T14:27:25.315430",
     "exception": false,
     "start_time": "2022-09-01T14:27:25.312510",
     "status": "completed"
    },
    "tags": []
   },
   "source": [
    "## Load data"
   ]
  },
  {
   "cell_type": "code",
   "execution_count": 3,
   "id": "1a56ffd8-2306-470f-9be0-0676808442df",
   "metadata": {
    "execution": {
     "iopub.execute_input": "2022-09-01T14:27:25.323200Z",
     "iopub.status.busy": "2022-09-01T14:27:25.322748Z",
     "iopub.status.idle": "2022-09-01T14:27:25.461952Z",
     "shell.execute_reply": "2022-09-01T14:27:25.461010Z"
    },
    "papermill": {
     "duration": 0.146798,
     "end_time": "2022-09-01T14:27:25.464843",
     "exception": false,
     "start_time": "2022-09-01T14:27:25.318045",
     "status": "completed"
    },
    "tags": []
   },
   "outputs": [],
   "source": [
    "data = pd.read_csv(input_data_path)"
   ]
  },
  {
   "cell_type": "code",
   "execution_count": 4,
   "id": "f7455a21-9b27-4bbf-88c1-9e93e5952d43",
   "metadata": {
    "execution": {
     "iopub.execute_input": "2022-09-01T14:27:25.471874Z",
     "iopub.status.busy": "2022-09-01T14:27:25.471456Z",
     "iopub.status.idle": "2022-09-01T14:27:25.508573Z",
     "shell.execute_reply": "2022-09-01T14:27:25.507836Z"
    },
    "papermill": {
     "duration": 0.043627,
     "end_time": "2022-09-01T14:27:25.511220",
     "exception": false,
     "start_time": "2022-09-01T14:27:25.467593",
     "status": "completed"
    },
    "tags": []
   },
   "outputs": [
    {
     "data": {
      "text/html": [
       "<div>\n",
       "<style scoped>\n",
       "    .dataframe tbody tr th:only-of-type {\n",
       "        vertical-align: middle;\n",
       "    }\n",
       "\n",
       "    .dataframe tbody tr th {\n",
       "        vertical-align: top;\n",
       "    }\n",
       "\n",
       "    .dataframe thead th {\n",
       "        text-align: right;\n",
       "    }\n",
       "</style>\n",
       "<table border=\"1\" class=\"dataframe\">\n",
       "  <thead>\n",
       "    <tr style=\"text-align: right;\">\n",
       "      <th></th>\n",
       "      <th>id</th>\n",
       "      <th>descendants</th>\n",
       "      <th>score</th>\n",
       "    </tr>\n",
       "  </thead>\n",
       "  <tbody>\n",
       "    <tr>\n",
       "      <th>count</th>\n",
       "      <td>5.541700e+04</td>\n",
       "      <td>55417.000000</td>\n",
       "      <td>55417.000000</td>\n",
       "    </tr>\n",
       "    <tr>\n",
       "      <th>mean</th>\n",
       "      <td>4.903880e+06</td>\n",
       "      <td>4.285923</td>\n",
       "      <td>10.518054</td>\n",
       "    </tr>\n",
       "    <tr>\n",
       "      <th>std</th>\n",
       "      <td>2.993531e+06</td>\n",
       "      <td>20.301477</td>\n",
       "      <td>40.788971</td>\n",
       "    </tr>\n",
       "    <tr>\n",
       "      <th>min</th>\n",
       "      <td>3.700000e+01</td>\n",
       "      <td>-1.000000</td>\n",
       "      <td>0.000000</td>\n",
       "    </tr>\n",
       "    <tr>\n",
       "      <th>25%</th>\n",
       "      <td>2.452395e+06</td>\n",
       "      <td>0.000000</td>\n",
       "      <td>1.000000</td>\n",
       "    </tr>\n",
       "    <tr>\n",
       "      <th>50%</th>\n",
       "      <td>4.596648e+06</td>\n",
       "      <td>0.000000</td>\n",
       "      <td>2.000000</td>\n",
       "    </tr>\n",
       "    <tr>\n",
       "      <th>75%</th>\n",
       "      <td>7.524237e+06</td>\n",
       "      <td>1.000000</td>\n",
       "      <td>3.000000</td>\n",
       "    </tr>\n",
       "    <tr>\n",
       "      <th>max</th>\n",
       "      <td>1.037918e+07</td>\n",
       "      <td>696.000000</td>\n",
       "      <td>1257.000000</td>\n",
       "    </tr>\n",
       "  </tbody>\n",
       "</table>\n",
       "</div>"
      ],
      "text/plain": [
       "                 id   descendants         score\n",
       "count  5.541700e+04  55417.000000  55417.000000\n",
       "mean   4.903880e+06      4.285923     10.518054\n",
       "std    2.993531e+06     20.301477     40.788971\n",
       "min    3.700000e+01     -1.000000      0.000000\n",
       "25%    2.452395e+06      0.000000      1.000000\n",
       "50%    4.596648e+06      0.000000      2.000000\n",
       "75%    7.524237e+06      1.000000      3.000000\n",
       "max    1.037918e+07    696.000000   1257.000000"
      ]
     },
     "execution_count": 4,
     "metadata": {},
     "output_type": "execute_result"
    }
   ],
   "source": [
    "data.describe()"
   ]
  },
  {
   "cell_type": "markdown",
   "id": "08cb322a-f7e1-40be-90a5-54c235f11c76",
   "metadata": {
    "papermill": {
     "duration": 0.006158,
     "end_time": "2022-09-01T14:27:25.520416",
     "exception": false,
     "start_time": "2022-09-01T14:27:25.514258",
     "status": "completed"
    },
    "tags": []
   },
   "source": [
    "## Analysis"
   ]
  },
  {
   "cell_type": "code",
   "execution_count": 5,
   "id": "7be4e036-4232-43d0-9a29-43ba551d355b",
   "metadata": {
    "execution": {
     "iopub.execute_input": "2022-09-01T14:27:25.527909Z",
     "iopub.status.busy": "2022-09-01T14:27:25.527445Z",
     "iopub.status.idle": "2022-09-01T14:27:25.579317Z",
     "shell.execute_reply": "2022-09-01T14:27:25.578367Z"
    },
    "papermill": {
     "duration": 0.058252,
     "end_time": "2022-09-01T14:27:25.581250",
     "exception": false,
     "start_time": "2022-09-01T14:27:25.522998",
     "status": "completed"
    },
    "tags": []
   },
   "outputs": [
    {
     "name": "stdout",
     "output_type": "stream",
     "text": [
      "<class 'pandas.core.frame.DataFrame'>\n",
      "RangeIndex: 55417 entries, 0 to 55416\n",
      "Data columns (total 8 columns):\n",
      " #   Column       Non-Null Count  Dtype              \n",
      "---  ------       --------------  -----              \n",
      " 0   id           55417 non-null  int64              \n",
      " 1   by           55417 non-null  object             \n",
      " 2   time_ts      55417 non-null  object             \n",
      " 3   title        55417 non-null  object             \n",
      " 4   descendants  55417 non-null  float64            \n",
      " 5   score        55417 non-null  float64            \n",
      " 6   dead         11251 non-null  object             \n",
      " 7   date         55417 non-null  datetime64[ns, UTC]\n",
      "dtypes: datetime64[ns, UTC](1), float64(2), int64(1), object(4)\n",
      "memory usage: 3.4+ MB\n"
     ]
    }
   ],
   "source": [
    "data['date'] = pd.to_datetime(data.time_ts)\n",
    "data.info()"
   ]
  },
  {
   "cell_type": "code",
   "execution_count": 6,
   "id": "43198bbb-9201-4755-9e4b-115fcf4d15a6",
   "metadata": {
    "execution": {
     "iopub.execute_input": "2022-09-01T14:27:25.588535Z",
     "iopub.status.busy": "2022-09-01T14:27:25.588000Z",
     "iopub.status.idle": "2022-09-01T14:27:25.865023Z",
     "shell.execute_reply": "2022-09-01T14:27:25.864185Z"
    },
    "papermill": {
     "duration": 0.283576,
     "end_time": "2022-09-01T14:27:25.867549",
     "exception": false,
     "start_time": "2022-09-01T14:27:25.583973",
     "status": "completed"
    },
    "tags": []
   },
   "outputs": [
    {
     "data": {
      "image/png": "[encoded data removed]",
      "text/plain": [
       "<Figure size 432x288 with 1 Axes>"
      ]
     },
     "metadata": {
      "needs_background": "light"
     },
     "output_type": "display_data"
    }
   ],
   "source": [
    "# Top 20 popular authors\n",
    "data.groupby('by').descendants.sum().sort_values(ascending=False).head(20).plot.barh();"
   ]
  },
  {
   "cell_type": "code",
   "execution_count": 7,
   "id": "e249ba52-7798-4edd-86b9-8c31d8e6f4bb",
   "metadata": {
    "execution": {
     "iopub.execute_input": "2022-09-01T14:27:25.875523Z",
     "iopub.status.busy": "2022-09-01T14:27:25.875292Z",
     "iopub.status.idle": "2022-09-01T14:27:26.197847Z",
     "shell.execute_reply": "2022-09-01T14:27:26.196984Z"
    },
    "papermill": {
     "duration": 0.330046,
     "end_time": "2022-09-01T14:27:26.200429",
     "exception": false,
     "start_time": "2022-09-01T14:27:25.870383",
     "status": "completed"
    },
    "tags": []
   },
   "outputs": [
    {
     "data": {
      "image/png": "[encoded data removed]",
      "text/plain": [
       "<Figure size 432x288 with 1 Axes>"
      ]
     },
     "metadata": {
      "needs_background": "light"
     },
     "output_type": "display_data"
    }
   ],
   "source": [
    "# Top 20 popular authors\n",
    "data.groupby('title').descendants.sum().sort_values(ascending=False).head(20).plot.barh();"
   ]
  },
  {
   "cell_type": "code",
   "execution_count": null,
   "id": "e176c9b3-b70f-4121-933b-e555c74888b6",
   "metadata": {
    "papermill": {
     "duration": 0.00339,
     "end_time": "2022-09-01T14:27:26.207362",
     "exception": false,
     "start_time": "2022-09-01T14:27:26.203972",
     "status": "completed"
    },
    "tags": []
   },
   "outputs": [],
   "source": []
  }
 ],
 "metadata": {
  "kernelspec": {
   "display_name": "Python 3 (ipykernel)",
   "language": "python",
   "name": "python3"
  },
  "language_info": {
   "codemirror_mode": {
    "name": "ipython",
    "version": 3
   },
   "file_extension": ".py",
   "mimetype": "text/x-python",
   "name": "python",
   "nbconvert_exporter": "python",
   "pygments_lexer": "ipython3",
   "version": "3.9.12"
  },
  "papermill": {
   "default_parameters": {},
   "duration": 4.143656,
   "end_time": "2022-09-01T14:27:26.531702",
   "environment_variables": {},
   "exception": null,
   "input_path": "/Users/anhdang/Developer/analytics-training-samples/02-reproducibility/elyra-assignment/stories_analysis.ipynb",
   "output_path": "/Users/anhdang/Developer/analytics-training-samples/02-reproducibility/elyra-assignment/stories_analysis.ipynb",
   "parameters": {},
   "start_time": "2022-09-01T14:27:22.388046",
   "version": "2.4.0"
  }
 },
 "nbformat": 4,
 "nbformat_minor": 5
}