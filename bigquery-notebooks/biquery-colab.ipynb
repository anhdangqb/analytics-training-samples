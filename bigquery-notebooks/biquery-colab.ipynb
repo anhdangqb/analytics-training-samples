{
  "cells": [
    {
      "cell_type": "markdown",
      "metadata": {
        "id": "HmUOtOnIuXoM"
      },
      "source": [
        "# Connect with BigQuery via Google Colab\n",
        "\n",
        "**Question #1**: WHY do we eed to use SQL (BigQuery) in integration with Python?\n",
        "\n",
        "**Question #2**: Notebooks is a `web-based` `interactive` `computing` platform. WHY is it so popular among Data practitioner?\n",
        "\n",
        "> If you cannot answer now, scroll down - finish the assignment, then come back and think about the questions. \n",
        "\n",
        "In this notebook, we introduce *Google Colab* that enable you to write and execute python code through browser (without any local set-up) and convenient to share with the co-works the same fashion with sharing links of Google Docs/Sheets.\n",
        "\n",
        "You can open `https://colab.research.google.com/`, and upload this notebooks."
      ]
    },
    {
      "cell_type": "markdown",
      "metadata": {
        "id": "PLa3vurouXoQ"
      },
      "source": [
        "### Provide credentials \n",
        "\n",
        "You will see that it is extremely conveninent to authenticate the access to BigQuery via _Google Colab_. The authentication is via your gmail account."
      ]
    },
    {
      "cell_type": "code",
      "execution_count": 1,
      "metadata": {
        "colab": {
          "base_uri": "https://localhost:8080/"
        },
        "id": "WIthDT-1-8r3",
        "outputId": "c8ac819e-aafb-4aef-bfec-ee336a1f5d51"
      },
      "outputs": [
        {
          "name": "stdout",
          "output_type": "stream",
          "text": [
            "Authenticated\n"
          ]
        }
      ],
      "source": [
        "from google.colab import auth\n",
        "auth.authenticate_user()\n",
        "print('Authenticated')"
      ]
    },
    {
      "cell_type": "markdown",
      "metadata": {
        "id": "pzJM9A1BuXoS"
      },
      "source": [
        "### Query data directly from BigQuery"
      ]
    },
    {
      "cell_type": "markdown",
      "metadata": {
        "id": "58b7kgh0uXoT"
      },
      "source": [
        "Optional: `google.colab.data_table` is to display large pandas dataframes as an interactive data tables (Hint: The command in notebooks start with `%` called [magic commands](https://ipython.readthedocs.io/en/stable/interactive/magics.html))"
      ]
    },
    {
      "cell_type": "code",
      "execution_count": 2,
      "metadata": {
        "id": "K9ETncAI_Jrl"
      },
      "outputs": [],
      "source": [
        "%load_ext google.colab.data_table"
      ]
    },
    {
      "cell_type": "markdown",
      "metadata": {
        "id": "uGr4n7LeuXoU"
      },
      "source": [
        "Query the data from BigQuery by SQL. Google Colab provide magic commands `%%bigquery` that make it very conveniently to write SQL. \n",
        "\n",
        "Below we query data and store it to `df_bq` as a `pandas.DataFrame`"
      ]
    },
    {
      "cell_type": "code",
      "execution_count": 4,
      "metadata": {
        "id": "mMkEeN7X_OZI"
      },
      "outputs": [],
      "source": [
        "%%bigquery --project analytics-training-hub df_bq\n",
        "SELECT \n",
        "  id, \n",
        "  `by`,\n",
        "  score, \n",
        "  time, \n",
        "  title, \n",
        "  descendants, \n",
        "  author \n",
        "FROM `bigquery-public-data.hacker_news.stories` \n",
        "LIMIT 10"
      ]
    },
    {
      "cell_type": "markdown",
      "metadata": {
        "id": "OctYcZClu5sP"
      },
      "source": [
        "### Work with Python\n",
        "\n",
        "OK then! So why we ever need to query BigQuery in the notebook rather than BigQuery UI Console? \n",
        "\n",
        "1. With the output from BigQuery, you can use it as input to other cool and handy tools in Python (visualization, statistics, modeling, etc.)\n",
        "2. Everything (SQL code, python code, charts, table outptus, comments/docs) is now on the same notebook, which is by nature already a doc/reports"
      ]
    },
    {
      "cell_type": "code",
      "execution_count": 14,
      "metadata": {
        "colab": {
          "base_uri": "https://localhost:8080/",
          "height": 437
        },
        "id": "kA8PyZDP_gfn",
        "outputId": "9a1e9b0c-8004-4003-ffc1-12e196ee2913"
      },
      "outputs": [
        {
          "data": {
            "application/vnd.google.colaboratory.module+javascript": "\n      import \"https://ssl.gstatic.com/colaboratory/data_table/a8bd4d5e58f96183/data_table.js\";\n\n      window.createDataTable({\n        data: [[{\n            'v': 0,\n            'f': \"0\",\n        },\n{\n            'v': 6994551,\n            'f': \"6994551\",\n        },\n\"Mrfun\",\n{\n            'v': 0,\n            'f': \"0\",\n        },\n{\n            'v': 1388564347,\n            'f': \"1388564347\",\n        },\n\"Why do women cheat more than Men?\",\n{\n            'v': NaN,\n            'f': \"NaN\",\n        },\n\"Mrfun\"],\n [{\n            'v': 1,\n            'f': \"1\",\n        },\n{\n            'v': 8797924,\n            'f': \"8797924\",\n        },\n\"TanyaSanya\",\n{\n            'v': 0,\n            'f': \"0\",\n        },\n{\n            'v': 1419564648,\n            'f': \"1419564648\",\n        },\n\"The Sanya and Tanya Wagner Story\",\n{\n            'v': NaN,\n            'f': \"NaN\",\n        },\n\"TanyaSanya\"],\n [{\n            'v': 2,\n            'f': \"2\",\n        },\n{\n            'v': 6990958,\n            'f': \"6990958\",\n        },\n\"thomaseide\",\n{\n            'v': 0,\n            'f': \"0\",\n        },\n{\n            'v': 1388504423,\n            'f': \"1388504423\",\n        },\n\"Insider look at new payment app coming out of stealth launch\",\n{\n            'v': NaN,\n            'f': \"NaN\",\n        },\n\"thomaseide\"],\n [{\n            'v': 3,\n            'f': \"3\",\n        },\n{\n            'v': 7165288,\n            'f': \"7165288\",\n        },\n\"chiquitabowers\",\n{\n            'v': 0,\n            'f': \"0\",\n        },\n{\n            'v': 1391328191,\n            'f': \"1391328191\",\n        },\n\"Whitney Houston gone wrong\",\n{\n            'v': NaN,\n            'f': \"NaN\",\n        },\n\"chiquitabowers\"],\n [{\n            'v': 4,\n            'f': \"4\",\n        },\n{\n            'v': 4671267,\n            'f': \"4671267\",\n        },\n\"kogir\",\n{\n            'v': 0,\n            'f': \"0\",\n        },\n{\n            'v': 1401561740,\n            'f': \"1401561740\",\n        },\n\"Placeholder\",\n{\n            'v': 0.0,\n            'f': \"0.0\",\n        },\n\"kogir\"],\n [{\n            'v': 5,\n            'f': \"5\",\n        },\n{\n            'v': 2148696,\n            'f': \"2148696\",\n        },\n\"kogir\",\n{\n            'v': 0,\n            'f': \"0\",\n        },\n{\n            'v': 1401561740,\n            'f': \"1401561740\",\n        },\n\"Placeholder\",\n{\n            'v': 0.0,\n            'f': \"0.0\",\n        },\n\"kogir\"],\n [{\n            'v': 6,\n            'f': \"6\",\n        },\n{\n            'v': 3677032,\n            'f': \"3677032\",\n        },\n\"kogir\",\n{\n            'v': 0,\n            'f': \"0\",\n        },\n{\n            'v': 1401561740,\n            'f': \"1401561740\",\n        },\n\"Placeholder\",\n{\n            'v': 0.0,\n            'f': \"0.0\",\n        },\n\"kogir\"],\n [{\n            'v': 7,\n            'f': \"7\",\n        },\n{\n            'v': 3159635,\n            'f': \"3159635\",\n        },\n\"kogir\",\n{\n            'v': 0,\n            'f': \"0\",\n        },\n{\n            'v': 1401561740,\n            'f': \"1401561740\",\n        },\n\"Placeholder\",\n{\n            'v': 0.0,\n            'f': \"0.0\",\n        },\n\"kogir\"],\n [{\n            'v': 8,\n            'f': \"8\",\n        },\n{\n            'v': 4774206,\n            'f': \"4774206\",\n        },\n\"kogir\",\n{\n            'v': 0,\n            'f': \"0\",\n        },\n{\n            'v': 1401561740,\n            'f': \"1401561740\",\n        },\n\"Placeholder\",\n{\n            'v': 0.0,\n            'f': \"0.0\",\n        },\n\"kogir\"],\n [{\n            'v': 9,\n            'f': \"9\",\n        },\n{\n            'v': 3949772,\n            'f': \"3949772\",\n        },\n\"kogir\",\n{\n            'v': 0,\n            'f': \"0\",\n        },\n{\n            'v': 1401561740,\n            'f': \"1401561740\",\n        },\n\"Placeholder\",\n{\n            'v': 0.0,\n            'f': \"0.0\",\n        },\n\"kogir\"]],\n        columns: [[\"number\", \"index\"], [\"number\", \"id\"], [\"string\", \"by\"], [\"number\", \"score\"], [\"number\", \"time\"], [\"string\", \"title\"], [\"number\", \"descendants\"], [\"string\", \"author\"]],\n        columnOptions: [{\"width\": \"1px\", \"className\": \"index_column\"}],\n        rowsPerPage: 25,\n        helpUrl: \"https://colab.research.google.com/notebooks/data_table.ipynb\",\n        suppressOutputScrolling: true,\n        minimumWidth: undefined,\n      });\n    ",
            "text/html": [
              "\n",
              "  <div id=\"df-8cd2b469-0b82-4876-9758-3e21cca1f575\">\n",
              "    <div class=\"colab-df-container\">\n",
              "      <div>\n",
              "<style scoped>\n",
              "    .dataframe tbody tr th:only-of-type {\n",
              "        vertical-align: middle;\n",
              "    }\n",
              "\n",
              "    .dataframe tbody tr th {\n",
              "        vertical-align: top;\n",
              "    }\n",
              "\n",
              "    .dataframe thead th {\n",
              "        text-align: right;\n",
              "    }\n",
              "</style>\n",
              "<table border=\"1\" class=\"dataframe\">\n",
              "  <thead>\n",
              "    <tr style=\"text-align: right;\">\n",
              "      <th></th>\n",
              "      <th>id</th>\n",
              "      <th>by</th>\n",
              "      <th>score</th>\n",
              "      <th>time</th>\n",
              "      <th>title</th>\n",
              "      <th>descendants</th>\n",
              "      <th>author</th>\n",
              "    </tr>\n",
              "  </thead>\n",
              "  <tbody>\n",
              "    <tr>\n",
              "      <th>0</th>\n",
              "      <td>6994551</td>\n",
              "      <td>Mrfun</td>\n",
              "      <td>0</td>\n",
              "      <td>1388564347</td>\n",
              "      <td>Why do women cheat more than Men?</td>\n",
              "      <td>NaN</td>\n",
              "      <td>Mrfun</td>\n",
              "    </tr>\n",
              "    <tr>\n",
              "      <th>1</th>\n",
              "      <td>8797924</td>\n",
              "      <td>TanyaSanya</td>\n",
              "      <td>0</td>\n",
              "      <td>1419564648</td>\n",
              "      <td>The Sanya and Tanya Wagner Story</td>\n",
              "      <td>NaN</td>\n",
              "      <td>TanyaSanya</td>\n",
              "    </tr>\n",
              "    <tr>\n",
              "      <th>2</th>\n",
              "      <td>6990958</td>\n",
              "      <td>thomaseide</td>\n",
              "      <td>0</td>\n",
              "      <td>1388504423</td>\n",
              "      <td>Insider look at new payment app coming out of ...</td>\n",
              "      <td>NaN</td>\n",
              "      <td>thomaseide</td>\n",
              "    </tr>\n",
              "    <tr>\n",
              "      <th>3</th>\n",
              "      <td>7165288</td>\n",
              "      <td>chiquitabowers</td>\n",
              "      <td>0</td>\n",
              "      <td>1391328191</td>\n",
              "      <td>Whitney Houston gone wrong</td>\n",
              "      <td>NaN</td>\n",
              "      <td>chiquitabowers</td>\n",
              "    </tr>\n",
              "    <tr>\n",
              "      <th>4</th>\n",
              "      <td>4671267</td>\n",
              "      <td>kogir</td>\n",
              "      <td>0</td>\n",
              "      <td>1401561740</td>\n",
              "      <td>Placeholder</td>\n",
              "      <td>0.0</td>\n",
              "      <td>kogir</td>\n",
              "    </tr>\n",
              "    <tr>\n",
              "      <th>5</th>\n",
              "      <td>2148696</td>\n",
              "      <td>kogir</td>\n",
              "      <td>0</td>\n",
              "      <td>1401561740</td>\n",
              "      <td>Placeholder</td>\n",
              "      <td>0.0</td>\n",
              "      <td>kogir</td>\n",
              "    </tr>\n",
              "    <tr>\n",
              "      <th>6</th>\n",
              "      <td>3677032</td>\n",
              "      <td>kogir</td>\n",
              "      <td>0</td>\n",
              "      <td>1401561740</td>\n",
              "      <td>Placeholder</td>\n",
              "      <td>0.0</td>\n",
              "      <td>kogir</td>\n",
              "    </tr>\n",
              "    <tr>\n",
              "      <th>7</th>\n",
              "      <td>3159635</td>\n",
              "      <td>kogir</td>\n",
              "      <td>0</td>\n",
              "      <td>1401561740</td>\n",
              "      <td>Placeholder</td>\n",
              "      <td>0.0</td>\n",
              "      <td>kogir</td>\n",
              "    </tr>\n",
              "    <tr>\n",
              "      <th>8</th>\n",
              "      <td>4774206</td>\n",
              "      <td>kogir</td>\n",
              "      <td>0</td>\n",
              "      <td>1401561740</td>\n",
              "      <td>Placeholder</td>\n",
              "      <td>0.0</td>\n",
              "      <td>kogir</td>\n",
              "    </tr>\n",
              "    <tr>\n",
              "      <th>9</th>\n",
              "      <td>3949772</td>\n",
              "      <td>kogir</td>\n",
              "      <td>0</td>\n",
              "      <td>1401561740</td>\n",
              "      <td>Placeholder</td>\n",
              "      <td>0.0</td>\n",
              "      <td>kogir</td>\n",
              "    </tr>\n",
              "  </tbody>\n",
              "</table>\n",
              "</div>\n",
              "      <button class=\"colab-df-convert\" onclick=\"convertToInteractive('df-8cd2b469-0b82-4876-9758-3e21cca1f575')\"\n",
              "              title=\"Convert this dataframe to an interactive table.\"\n",
              "              style=\"display:none;\">\n",
              "        \n",
              "  <svg xmlns=\"http://www.w3.org/2000/svg\" height=\"24px\"viewBox=\"0 0 24 24\"\n",
              "       width=\"24px\">\n",
              "    <path d=\"M0 0h24v24H0V0z\" fill=\"none\"/>\n",
              "    <path d=\"M18.56 5.44l.94 2.06.94-2.06 2.06-.94-2.06-.94-.94-2.06-.94 2.06-2.06.94zm-11 1L8.5 8.5l.94-2.06 2.06-.94-2.06-.94L8.5 2.5l-.94 2.06-2.06.94zm10 10l.94 2.06.94-2.06 2.06-.94-2.06-.94-.94-2.06-.94 2.06-2.06.94z\"/><path d=\"M17.41 7.96l-1.37-1.37c-.4-.4-.92-.59-1.43-.59-.52 0-1.04.2-1.43.59L10.3 9.45l-7.72 7.72c-.78.78-.78 2.05 0 2.83L4 21.41c.39.39.9.59 1.41.59.51 0 1.02-.2 1.41-.59l7.78-7.78 2.81-2.81c.8-.78.8-2.07 0-2.86zM5.41 20L4 18.59l7.72-7.72 1.47 1.35L5.41 20z\"/>\n",
              "  </svg>\n",
              "      </button>\n",
              "      \n",
              "  <style>\n",
              "    .colab-df-container {\n",
              "      display:flex;\n",
              "      flex-wrap:wrap;\n",
              "      gap: 12px;\n",
              "    }\n",
              "\n",
              "    .colab-df-convert {\n",
              "      background-color: #E8F0FE;\n",
              "      border: none;\n",
              "      border-radius: 50%;\n",
              "      cursor: pointer;\n",
              "      display: none;\n",
              "      fill: #1967D2;\n",
              "      height: 32px;\n",
              "      padding: 0 0 0 0;\n",
              "      width: 32px;\n",
              "    }\n",
              "\n",
              "    .colab-df-convert:hover {\n",
              "      background-color: #E2EBFA;\n",
              "      box-shadow: 0px 1px 2px rgba(60, 64, 67, 0.3), 0px 1px 3px 1px rgba(60, 64, 67, 0.15);\n",
              "      fill: #174EA6;\n",
              "    }\n",
              "\n",
              "    [theme=dark] .colab-df-convert {\n",
              "      background-color: #3B4455;\n",
              "      fill: #D2E3FC;\n",
              "    }\n",
              "\n",
              "    [theme=dark] .colab-df-convert:hover {\n",
              "      background-color: #434B5C;\n",
              "      box-shadow: 0px 1px 3px 1px rgba(0, 0, 0, 0.15);\n",
              "      filter: drop-shadow(0px 1px 2px rgba(0, 0, 0, 0.3));\n",
              "      fill: #FFFFFF;\n",
              "    }\n",
              "  </style>\n",
              "\n",
              "      <script>\n",
              "        const buttonEl =\n",
              "          document.querySelector('#df-8cd2b469-0b82-4876-9758-3e21cca1f575 button.colab-df-convert');\n",
              "        buttonEl.style.display =\n",
              "          google.colab.kernel.accessAllowed ? 'block' : 'none';\n",
              "\n",
              "        async function convertToInteractive(key) {\n",
              "          const element = document.querySelector('#df-8cd2b469-0b82-4876-9758-3e21cca1f575');\n",
              "          const dataTable =\n",
              "            await google.colab.kernel.invokeFunction('convertToInteractive',\n",
              "                                                     [key], {});\n",
              "          if (!dataTable) return;\n",
              "\n",
              "          const docLinkHtml = 'Like what you see? Visit the ' +\n",
              "            '<a target=\"_blank\" href=https://colab.research.google.com/notebooks/data_table.ipynb>data table notebook</a>'\n",
              "            + ' to learn more about interactive tables.';\n",
              "          element.innerHTML = '';\n",
              "          dataTable['output_type'] = 'display_data';\n",
              "          await google.colab.output.renderOutput(dataTable, element);\n",
              "          const docLink = document.createElement('div');\n",
              "          docLink.innerHTML = docLinkHtml;\n",
              "          element.appendChild(docLink);\n",
              "        }\n",
              "      </script>\n",
              "    </div>\n",
              "  </div>\n",
              "  "
            ],
            "text/plain": [
              "        id              by  score        time  \\\n",
              "0  6994551           Mrfun      0  1388564347   \n",
              "1  8797924      TanyaSanya      0  1419564648   \n",
              "2  6990958      thomaseide      0  1388504423   \n",
              "3  7165288  chiquitabowers      0  1391328191   \n",
              "4  4671267           kogir      0  1401561740   \n",
              "5  2148696           kogir      0  1401561740   \n",
              "6  3677032           kogir      0  1401561740   \n",
              "7  3159635           kogir      0  1401561740   \n",
              "8  4774206           kogir      0  1401561740   \n",
              "9  3949772           kogir      0  1401561740   \n",
              "\n",
              "                                               title  descendants  \\\n",
              "0                  Why do women cheat more than Men?          NaN   \n",
              "1                   The Sanya and Tanya Wagner Story          NaN   \n",
              "2  Insider look at new payment app coming out of ...          NaN   \n",
              "3                         Whitney Houston gone wrong          NaN   \n",
              "4                                        Placeholder          0.0   \n",
              "5                                        Placeholder          0.0   \n",
              "6                                        Placeholder          0.0   \n",
              "7                                        Placeholder          0.0   \n",
              "8                                        Placeholder          0.0   \n",
              "9                                        Placeholder          0.0   \n",
              "\n",
              "           author  \n",
              "0           Mrfun  \n",
              "1      TanyaSanya  \n",
              "2      thomaseide  \n",
              "3  chiquitabowers  \n",
              "4           kogir  \n",
              "5           kogir  \n",
              "6           kogir  \n",
              "7           kogir  \n",
              "8           kogir  \n",
              "9           kogir  "
            ]
          },
          "execution_count": 14,
          "metadata": {},
          "output_type": "execute_result"
        }
      ],
      "source": [
        "df_bq"
      ]
    },
    {
      "cell_type": "markdown",
      "metadata": {
        "id": "0X39VJGnwDxq"
      },
      "source": [
        "#### Data Manipulation in Python\n",
        "\n",
        "Data manipulation is all the actions that you always do with SQL (subset data - rows/columns, groupby, aggregate). Things are same but syntax is different. \n",
        "\n",
        "\n",
        "\n",
        "*   You can use [Pandas](https://pandas.pydata.org/). The best way to learn a new data manipulation language is to put it side-by-side with SQL (or any language that you're familiar). See: [Pandas - Comparison with SQL](https://pandas.pydata.org/docs/getting_started/comparison/comparison_with_sql.html). \n",
        "*   Though I don't like Pandas for data manipulation, the syntax is long and not intuitive, not readable\n",
        "* We will use [DuckDB](https://duckdb.org/docs/guides/python/sql_on_pandas), with SQL syntax and highly optimized performance comparing to Pandas. See: [Efficient SQL on Pandas with DuckDB](https://duckdb.org/2021/05/14/sql-on-pandas.html)\n"
      ]
    },
    {
      "cell_type": "markdown",
      "metadata": {
        "id": "Cl491FssyMgX"
      },
      "source": [
        "`duckdb` is not available on Google Colab by default. You can run `%pip install`"
      ]
    },
    {
      "cell_type": "code",
      "execution_count": 9,
      "metadata": {
        "colab": {
          "base_uri": "https://localhost:8080/"
        },
        "id": "udF10DJNyI7U",
        "outputId": "551b39f8-b560-449c-ab09-ad99cd2f8705"
      },
      "outputs": [
        {
          "name": "stdout",
          "output_type": "stream",
          "text": [
            "Looking in indexes: https://pypi.org/simple, https://us-python.pkg.dev/colab-wheels/public/simple/\n",
            "Collecting duckdb\n",
            "  Downloading duckdb-0.4.0-cp37-cp37m-manylinux_2_17_x86_64.manylinux2014_x86_64.whl (15.7 MB)\n",
            "\u001b[K     |████████████████████████████████| 15.7 MB 23.9 MB/s \n",
            "\u001b[?25hRequirement already satisfied: numpy>=1.14 in /usr/local/lib/python3.7/dist-packages (from duckdb) (1.21.6)\n",
            "Installing collected packages: duckdb\n",
            "Successfully installed duckdb-0.4.0\n"
          ]
        }
      ],
      "source": [
        "%pip install duckdb"
      ]
    },
    {
      "cell_type": "code",
      "execution_count": 10,
      "metadata": {
        "id": "F1yEZvJourlU"
      },
      "outputs": [],
      "source": [
        "import duckdb"
      ]
    },
    {
      "cell_type": "code",
      "execution_count": 11,
      "metadata": {
        "id": "M1YpsI6bu2RN"
      },
      "outputs": [],
      "source": [
        "# connect to an in-memory database\n",
        "con = duckdb.connect()"
      ]
    },
    {
      "cell_type": "code",
      "execution_count": 12,
      "metadata": {
        "colab": {
          "base_uri": "https://localhost:8080/",
          "height": 197
        },
        "id": "2Ce1mS-7yaip",
        "outputId": "b4a3ee5b-96aa-4ffb-de6d-4ebb02f23a09"
      },
      "outputs": [
        {
          "data": {
            "application/vnd.google.colaboratory.module+javascript": "\n      import \"https://ssl.gstatic.com/colaboratory/data_table/a8bd4d5e58f96183/data_table.js\";\n\n      window.createDataTable({\n        data: [[{\n            'v': 0,\n            'f': \"0\",\n        },\n\"Mrfun\",\n{\n            'v': 1,\n            'f': \"1\",\n        }],\n [{\n            'v': 1,\n            'f': \"1\",\n        },\n\"TanyaSanya\",\n{\n            'v': 1,\n            'f': \"1\",\n        }],\n [{\n            'v': 2,\n            'f': \"2\",\n        },\n\"thomaseide\",\n{\n            'v': 1,\n            'f': \"1\",\n        }],\n [{\n            'v': 3,\n            'f': \"3\",\n        },\n\"chiquitabowers\",\n{\n            'v': 1,\n            'f': \"1\",\n        }],\n [{\n            'v': 4,\n            'f': \"4\",\n        },\n\"kogir\",\n{\n            'v': 6,\n            'f': \"6\",\n        }]],\n        columns: [[\"number\", \"index\"], [\"string\", \"author\"], [\"number\", \"stories_cnt\"]],\n        columnOptions: [{\"width\": \"1px\", \"className\": \"index_column\"}],\n        rowsPerPage: 25,\n        helpUrl: \"https://colab.research.google.com/notebooks/data_table.ipynb\",\n        suppressOutputScrolling: true,\n        minimumWidth: undefined,\n      });\n    ",
            "text/html": [
              "\n",
              "  <div id=\"df-403936f2-aa28-4896-bc6b-638bb8a61a69\">\n",
              "    <div class=\"colab-df-container\">\n",
              "      <div>\n",
              "<style scoped>\n",
              "    .dataframe tbody tr th:only-of-type {\n",
              "        vertical-align: middle;\n",
              "    }\n",
              "\n",
              "    .dataframe tbody tr th {\n",
              "        vertical-align: top;\n",
              "    }\n",
              "\n",
              "    .dataframe thead th {\n",
              "        text-align: right;\n",
              "    }\n",
              "</style>\n",
              "<table border=\"1\" class=\"dataframe\">\n",
              "  <thead>\n",
              "    <tr style=\"text-align: right;\">\n",
              "      <th></th>\n",
              "      <th>author</th>\n",
              "      <th>stories_cnt</th>\n",
              "    </tr>\n",
              "  </thead>\n",
              "  <tbody>\n",
              "    <tr>\n",
              "      <th>0</th>\n",
              "      <td>Mrfun</td>\n",
              "      <td>1</td>\n",
              "    </tr>\n",
              "    <tr>\n",
              "      <th>1</th>\n",
              "      <td>TanyaSanya</td>\n",
              "      <td>1</td>\n",
              "    </tr>\n",
              "    <tr>\n",
              "      <th>2</th>\n",
              "      <td>thomaseide</td>\n",
              "      <td>1</td>\n",
              "    </tr>\n",
              "    <tr>\n",
              "      <th>3</th>\n",
              "      <td>chiquitabowers</td>\n",
              "      <td>1</td>\n",
              "    </tr>\n",
              "    <tr>\n",
              "      <th>4</th>\n",
              "      <td>kogir</td>\n",
              "      <td>6</td>\n",
              "    </tr>\n",
              "  </tbody>\n",
              "</table>\n",
              "</div>\n",
              "      <button class=\"colab-df-convert\" onclick=\"convertToInteractive('df-403936f2-aa28-4896-bc6b-638bb8a61a69')\"\n",
              "              title=\"Convert this dataframe to an interactive table.\"\n",
              "              style=\"display:none;\">\n",
              "        \n",
              "  <svg xmlns=\"http://www.w3.org/2000/svg\" height=\"24px\"viewBox=\"0 0 24 24\"\n",
              "       width=\"24px\">\n",
              "    <path d=\"M0 0h24v24H0V0z\" fill=\"none\"/>\n",
              "    <path d=\"M18.56 5.44l.94 2.06.94-2.06 2.06-.94-2.06-.94-.94-2.06-.94 2.06-2.06.94zm-11 1L8.5 8.5l.94-2.06 2.06-.94-2.06-.94L8.5 2.5l-.94 2.06-2.06.94zm10 10l.94 2.06.94-2.06 2.06-.94-2.06-.94-.94-2.06-.94 2.06-2.06.94z\"/><path d=\"M17.41 7.96l-1.37-1.37c-.4-.4-.92-.59-1.43-.59-.52 0-1.04.2-1.43.59L10.3 9.45l-7.72 7.72c-.78.78-.78 2.05 0 2.83L4 21.41c.39.39.9.59 1.41.59.51 0 1.02-.2 1.41-.59l7.78-7.78 2.81-2.81c.8-.78.8-2.07 0-2.86zM5.41 20L4 18.59l7.72-7.72 1.47 1.35L5.41 20z\"/>\n",
              "  </svg>\n",
              "      </button>\n",
              "      \n",
              "  <style>\n",
              "    .colab-df-container {\n",
              "      display:flex;\n",
              "      flex-wrap:wrap;\n",
              "      gap: 12px;\n",
              "    }\n",
              "\n",
              "    .colab-df-convert {\n",
              "      background-color: #E8F0FE;\n",
              "      border: none;\n",
              "      border-radius: 50%;\n",
              "      cursor: pointer;\n",
              "      display: none;\n",
              "      fill: #1967D2;\n",
              "      height: 32px;\n",
              "      padding: 0 0 0 0;\n",
              "      width: 32px;\n",
              "    }\n",
              "\n",
              "    .colab-df-convert:hover {\n",
              "      background-color: #E2EBFA;\n",
              "      box-shadow: 0px 1px 2px rgba(60, 64, 67, 0.3), 0px 1px 3px 1px rgba(60, 64, 67, 0.15);\n",
              "      fill: #174EA6;\n",
              "    }\n",
              "\n",
              "    [theme=dark] .colab-df-convert {\n",
              "      background-color: #3B4455;\n",
              "      fill: #D2E3FC;\n",
              "    }\n",
              "\n",
              "    [theme=dark] .colab-df-convert:hover {\n",
              "      background-color: #434B5C;\n",
              "      box-shadow: 0px 1px 3px 1px rgba(0, 0, 0, 0.15);\n",
              "      filter: drop-shadow(0px 1px 2px rgba(0, 0, 0, 0.3));\n",
              "      fill: #FFFFFF;\n",
              "    }\n",
              "  </style>\n",
              "\n",
              "      <script>\n",
              "        const buttonEl =\n",
              "          document.querySelector('#df-403936f2-aa28-4896-bc6b-638bb8a61a69 button.colab-df-convert');\n",
              "        buttonEl.style.display =\n",
              "          google.colab.kernel.accessAllowed ? 'block' : 'none';\n",
              "\n",
              "        async function convertToInteractive(key) {\n",
              "          const element = document.querySelector('#df-403936f2-aa28-4896-bc6b-638bb8a61a69');\n",
              "          const dataTable =\n",
              "            await google.colab.kernel.invokeFunction('convertToInteractive',\n",
              "                                                     [key], {});\n",
              "          if (!dataTable) return;\n",
              "\n",
              "          const docLinkHtml = 'Like what you see? Visit the ' +\n",
              "            '<a target=\"_blank\" href=https://colab.research.google.com/notebooks/data_table.ipynb>data table notebook</a>'\n",
              "            + ' to learn more about interactive tables.';\n",
              "          element.innerHTML = '';\n",
              "          dataTable['output_type'] = 'display_data';\n",
              "          await google.colab.output.renderOutput(dataTable, element);\n",
              "          const docLink = document.createElement('div');\n",
              "          docLink.innerHTML = docLinkHtml;\n",
              "          element.appendChild(docLink);\n",
              "        }\n",
              "      </script>\n",
              "    </div>\n",
              "  </div>\n",
              "  "
            ],
            "text/plain": [
              "           author  stories_cnt\n",
              "0           Mrfun            1\n",
              "1      TanyaSanya            1\n",
              "2      thomaseide            1\n",
              "3  chiquitabowers            1\n",
              "4           kogir            6"
            ]
          },
          "execution_count": 12,
          "metadata": {},
          "output_type": "execute_result"
        }
      ],
      "source": [
        "# Query Pandas DataFrame with SQL. Output to stories_per_author_df\n",
        "sql_string = \"\"\"\n",
        "SELECT\n",
        "  author, \n",
        "  COUNT(DISTINCT id) AS stories_cnt\n",
        "FROM df_bq\n",
        "GROUP BY 1\n",
        "\"\"\"\n",
        "stories_per_author_df = con.execute(sql_string).df()\n",
        "stories_per_author_df.head()"
      ]
    },
    {
      "cell_type": "markdown",
      "metadata": {
        "id": "O9mW3t6Dy73x"
      },
      "source": [
        "Pandas syntax is not very much preferred (IMO), they still have any convenient functionalities"
      ]
    },
    {
      "cell_type": "code",
      "execution_count": 13,
      "metadata": {
        "colab": {
          "base_uri": "https://localhost:8080/"
        },
        "id": "O-dgNmtay42j",
        "outputId": "ea2b7043-ead1-4b12-9190-3f5e4e023228"
      },
      "outputs": [
        {
          "name": "stdout",
          "output_type": "stream",
          "text": [
            "<class 'pandas.core.frame.DataFrame'>\n",
            "RangeIndex: 5 entries, 0 to 4\n",
            "Data columns (total 2 columns):\n",
            " #   Column       Non-Null Count  Dtype \n",
            "---  ------       --------------  ----- \n",
            " 0   author       5 non-null      object\n",
            " 1   stories_cnt  5 non-null      int64 \n",
            "dtypes: int64(1), object(1)\n",
            "memory usage: 208.0+ bytes\n"
          ]
        }
      ],
      "source": [
        "# Glimps into data\n",
        "stories_per_author_df.info()"
      ]
    },
    {
      "cell_type": "code",
      "execution_count": 15,
      "metadata": {
        "colab": {
          "base_uri": "https://localhost:8080/",
          "height": 262
        },
        "id": "IYNgVLguzLpb",
        "outputId": "34fe4690-d0c1-4429-c324-5224d80bc2e7"
      },
      "outputs": [
        {
          "data": {
            "application/vnd.google.colaboratory.module+javascript": "\n      import \"https://ssl.gstatic.com/colaboratory/data_table/a8bd4d5e58f96183/data_table.js\";\n\n      window.createDataTable({\n        data: [[\"count\",\n{\n            'v': 5.0,\n            'f': \"5.0\",\n        }],\n [\"mean\",\n{\n            'v': 2.0,\n            'f': \"2.0\",\n        }],\n [\"std\",\n{\n            'v': 2.23606797749979,\n            'f': \"2.23606797749979\",\n        }],\n [\"min\",\n{\n            'v': 1.0,\n            'f': \"1.0\",\n        }],\n [\"25%\",\n{\n            'v': 1.0,\n            'f': \"1.0\",\n        }],\n [\"50%\",\n{\n            'v': 1.0,\n            'f': \"1.0\",\n        }],\n [\"75%\",\n{\n            'v': 1.0,\n            'f': \"1.0\",\n        }],\n [\"max\",\n{\n            'v': 6.0,\n            'f': \"6.0\",\n        }]],\n        columns: [[\"string\", \"index\"], [\"number\", \"stories_cnt\"]],\n        columnOptions: [{\"width\": \"1px\", \"className\": \"index_column\"}],\n        rowsPerPage: 25,\n        helpUrl: \"https://colab.research.google.com/notebooks/data_table.ipynb\",\n        suppressOutputScrolling: true,\n        minimumWidth: undefined,\n      });\n    ",
            "text/html": [
              "\n",
              "  <div id=\"df-3c183582-09b2-4ec9-b632-d7b30f41dbd9\">\n",
              "    <div class=\"colab-df-container\">\n",
              "      <div>\n",
              "<style scoped>\n",
              "    .dataframe tbody tr th:only-of-type {\n",
              "        vertical-align: middle;\n",
              "    }\n",
              "\n",
              "    .dataframe tbody tr th {\n",
              "        vertical-align: top;\n",
              "    }\n",
              "\n",
              "    .dataframe thead th {\n",
              "        text-align: right;\n",
              "    }\n",
              "</style>\n",
              "<table border=\"1\" class=\"dataframe\">\n",
              "  <thead>\n",
              "    <tr style=\"text-align: right;\">\n",
              "      <th></th>\n",
              "      <th>stories_cnt</th>\n",
              "    </tr>\n",
              "  </thead>\n",
              "  <tbody>\n",
              "    <tr>\n",
              "      <th>count</th>\n",
              "      <td>5.000000</td>\n",
              "    </tr>\n",
              "    <tr>\n",
              "      <th>mean</th>\n",
              "      <td>2.000000</td>\n",
              "    </tr>\n",
              "    <tr>\n",
              "      <th>std</th>\n",
              "      <td>2.236068</td>\n",
              "    </tr>\n",
              "    <tr>\n",
              "      <th>min</th>\n",
              "      <td>1.000000</td>\n",
              "    </tr>\n",
              "    <tr>\n",
              "      <th>25%</th>\n",
              "      <td>1.000000</td>\n",
              "    </tr>\n",
              "    <tr>\n",
              "      <th>50%</th>\n",
              "      <td>1.000000</td>\n",
              "    </tr>\n",
              "    <tr>\n",
              "      <th>75%</th>\n",
              "      <td>1.000000</td>\n",
              "    </tr>\n",
              "    <tr>\n",
              "      <th>max</th>\n",
              "      <td>6.000000</td>\n",
              "    </tr>\n",
              "  </tbody>\n",
              "</table>\n",
              "</div>\n",
              "      <button class=\"colab-df-convert\" onclick=\"convertToInteractive('df-3c183582-09b2-4ec9-b632-d7b30f41dbd9')\"\n",
              "              title=\"Convert this dataframe to an interactive table.\"\n",
              "              style=\"display:none;\">\n",
              "        \n",
              "  <svg xmlns=\"http://www.w3.org/2000/svg\" height=\"24px\"viewBox=\"0 0 24 24\"\n",
              "       width=\"24px\">\n",
              "    <path d=\"M0 0h24v24H0V0z\" fill=\"none\"/>\n",
              "    <path d=\"M18.56 5.44l.94 2.06.94-2.06 2.06-.94-2.06-.94-.94-2.06-.94 2.06-2.06.94zm-11 1L8.5 8.5l.94-2.06 2.06-.94-2.06-.94L8.5 2.5l-.94 2.06-2.06.94zm10 10l.94 2.06.94-2.06 2.06-.94-2.06-.94-.94-2.06-.94 2.06-2.06.94z\"/><path d=\"M17.41 7.96l-1.37-1.37c-.4-.4-.92-.59-1.43-.59-.52 0-1.04.2-1.43.59L10.3 9.45l-7.72 7.72c-.78.78-.78 2.05 0 2.83L4 21.41c.39.39.9.59 1.41.59.51 0 1.02-.2 1.41-.59l7.78-7.78 2.81-2.81c.8-.78.8-2.07 0-2.86zM5.41 20L4 18.59l7.72-7.72 1.47 1.35L5.41 20z\"/>\n",
              "  </svg>\n",
              "      </button>\n",
              "      \n",
              "  <style>\n",
              "    .colab-df-container {\n",
              "      display:flex;\n",
              "      flex-wrap:wrap;\n",
              "      gap: 12px;\n",
              "    }\n",
              "\n",
              "    .colab-df-convert {\n",
              "      background-color: #E8F0FE;\n",
              "      border: none;\n",
              "      border-radius: 50%;\n",
              "      cursor: pointer;\n",
              "      display: none;\n",
              "      fill: #1967D2;\n",
              "      height: 32px;\n",
              "      padding: 0 0 0 0;\n",
              "      width: 32px;\n",
              "    }\n",
              "\n",
              "    .colab-df-convert:hover {\n",
              "      background-color: #E2EBFA;\n",
              "      box-shadow: 0px 1px 2px rgba(60, 64, 67, 0.3), 0px 1px 3px 1px rgba(60, 64, 67, 0.15);\n",
              "      fill: #174EA6;\n",
              "    }\n",
              "\n",
              "    [theme=dark] .colab-df-convert {\n",
              "      background-color: #3B4455;\n",
              "      fill: #D2E3FC;\n",
              "    }\n",
              "\n",
              "    [theme=dark] .colab-df-convert:hover {\n",
              "      background-color: #434B5C;\n",
              "      box-shadow: 0px 1px 3px 1px rgba(0, 0, 0, 0.15);\n",
              "      filter: drop-shadow(0px 1px 2px rgba(0, 0, 0, 0.3));\n",
              "      fill: #FFFFFF;\n",
              "    }\n",
              "  </style>\n",
              "\n",
              "      <script>\n",
              "        const buttonEl =\n",
              "          document.querySelector('#df-3c183582-09b2-4ec9-b632-d7b30f41dbd9 button.colab-df-convert');\n",
              "        buttonEl.style.display =\n",
              "          google.colab.kernel.accessAllowed ? 'block' : 'none';\n",
              "\n",
              "        async function convertToInteractive(key) {\n",
              "          const element = document.querySelector('#df-3c183582-09b2-4ec9-b632-d7b30f41dbd9');\n",
              "          const dataTable =\n",
              "            await google.colab.kernel.invokeFunction('convertToInteractive',\n",
              "                                                     [key], {});\n",
              "          if (!dataTable) return;\n",
              "\n",
              "          const docLinkHtml = 'Like what you see? Visit the ' +\n",
              "            '<a target=\"_blank\" href=https://colab.research.google.com/notebooks/data_table.ipynb>data table notebook</a>'\n",
              "            + ' to learn more about interactive tables.';\n",
              "          element.innerHTML = '';\n",
              "          dataTable['output_type'] = 'display_data';\n",
              "          await google.colab.output.renderOutput(dataTable, element);\n",
              "          const docLink = document.createElement('div');\n",
              "          docLink.innerHTML = docLinkHtml;\n",
              "          element.appendChild(docLink);\n",
              "        }\n",
              "      </script>\n",
              "    </div>\n",
              "  </div>\n",
              "  "
            ],
            "text/plain": [
              "       stories_cnt\n",
              "count     5.000000\n",
              "mean      2.000000\n",
              "std       2.236068\n",
              "min       1.000000\n",
              "25%       1.000000\n",
              "50%       1.000000\n",
              "75%       1.000000\n",
              "max       6.000000"
            ]
          },
          "execution_count": 15,
          "metadata": {},
          "output_type": "execute_result"
        }
      ],
      "source": [
        "# Calculate statistics\n",
        "stories_per_author_df.describe()"
      ]
    },
    {
      "cell_type": "markdown",
      "metadata": {
        "id": "ZvcswATUznw-"
      },
      "source": [
        "#### Data Visualization\n",
        "\n",
        "`matplotlib` is the most well-known python package for data visualization. Though `seaborn` is built on top of `matplotlib` with more modern syntax (which enables you to write shorter, simpler code to create a chart)"
      ]
    },
    {
      "cell_type": "code",
      "execution_count": 16,
      "metadata": {
        "id": "RKQy25gTzWpJ"
      },
      "outputs": [],
      "source": [
        "import seaborn as sns\n",
        "import matplotlib.pyplot as plt "
      ]
    },
    {
      "cell_type": "code",
      "execution_count": 18,
      "metadata": {
        "colab": {
          "base_uri": "https://localhost:8080/",
          "height": 295
        },
        "id": "vwCNm4x6zfg8",
        "outputId": "6d889734-2c9e-42a0-e242-e60d62dd823c"
      },
      "outputs": [
        {
          "data": {
            "image/png": "[encoded data removed]",
            "text/plain": [
              "<Figure size 432x288 with 1 Axes>"
            ]
          },
          "metadata": {
            "needs_background": "light"
          },
          "output_type": "display_data"
        }
      ],
      "source": [
        "sns.barplot(data=stories_per_author_df, x=\"author\", y=\"stories_cnt\")\n",
        "plt.title('# of Stories by Authors')\n",
        "plt.xlabel('Author')\n",
        "plt.ylabel('storues_cnt')\n",
        "plt.show()"
      ]
    },
    {
      "cell_type": "markdown",
      "metadata": {
        "id": "vdJe9-Dr0m6n"
      },
      "source": [
        "### TODO: Assignment\n",
        "\n",
        "Connect to `bigquery-public-data` dataset on Google Colab, load and explore, table: `comments`, `full`, `full_201510`, `stories`.\n",
        "\n",
        "By `duckdb` or `pandas`: \n",
        "\n",
        "1. Explore the data: schema, statistics (mean/max/min). Any comment on the data?\n",
        "2. Data quality check. What will you check? Any comment on data quality?\n",
        "3. Find the relationships among tables (what keys to join them)?\n",
        "4. `THIS IS OUTSIDE OF COLAB NOTEBOOK` Now, to support your job, let's materialize your understanding into a Database Diagram using [DBdiagram.io](https://dbdiagram.io/home)\n",
        "\n",
        "[DBdiagram.io](https://dbdiagram.io/home) is a tool to create the diagram of Database by code. Please copy and replace to code to file `dbdiagram_template.json` and save it to our git repo."
      ]
    },
    {
      "cell_type": "code",
      "execution_count": null,
      "metadata": {
        "id": "C0dN2ma7zfan"
      },
      "outputs": [],
      "source": [
        "#TODO: Your work from here"
      ]
    },
    {
      "cell_type": "code",
      "execution_count": null,
      "metadata": {
        "id": "6gqJTd6QzfRg"
      },
      "outputs": [],
      "source": []
    }
  ],
  "metadata": {
    "colab": {
      "name": "biquery-colab.ipynb",
      "provenance": [],
      "toc_visible": true
    },
    "kernelspec": {
      "display_name": "Python 3.8.8 ('base')",
      "language": "python",
      "name": "python3"
    },
    "language_info": {
      "name": "python",
      "version": "3.8.8"
    },
    "vscode": {
      "interpreter": {
        "hash": "4716acc0dff16a4774e6db3bfaaf8be71421245dc750feee3f653e260cdc6b3a"
      }
    }
  },
  "nbformat": 4,
  "nbformat_minor": 0
}
