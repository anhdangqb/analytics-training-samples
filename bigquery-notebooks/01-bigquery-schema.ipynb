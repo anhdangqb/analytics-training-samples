{
 "cells": [
  {
   "cell_type": "markdown",
   "id": "710e76e7",
   "metadata": {},
   "source": [
    "# SOLUTION: Explore schema & access DQ\n",
    "\n",
    "This notebook would explore `hacker-news` datasets following step-by-step of DQ checklist in [cheatsheets/data-quality-check.md](../cheatsheets/data-quality-check.md)\n",
    "\n",
    "- [Check#0: Get-the-sense](#check0-get-the-sense)\n",
    "- [Check#1: Timeliness/Historical](#check1-timeliness--historical)\n",
    "- [Check#2: Completeness](#check2-completeness)\n",
    "- [Check#3: Annotation](#check3-annotation)\n",
    "- [Check#4: Consistency](#check4-consistency)\n",
    "- [Check#5: Linkage](#check5-linkage)"
   ]
  },
  {
   "cell_type": "code",
   "execution_count": 27,
   "id": "2fde10c9-e54b-41ab-a525-57838d2ed2e7",
   "metadata": {},
   "outputs": [],
   "source": [
    "from google.cloud import bigquery\n",
    "from google.oauth2 import service_account\n",
    "import pandas as pd \n",
    "import missingno as msno\n",
    "import matplotlib.pyplot as plt"
   ]
  },
  {
   "cell_type": "code",
   "execution_count": 9,
   "id": "9c231a2d",
   "metadata": {},
   "outputs": [
    {
     "name": "stdout",
     "output_type": "stream",
     "text": [
      "soy-storm-359817-3864bb8984b2.json\n"
     ]
    }
   ],
   "source": [
    "%ls ../credentials/ "
   ]
  },
  {
   "cell_type": "code",
   "execution_count": 13,
   "id": "34ebe01c",
   "metadata": {},
   "outputs": [],
   "source": [
    "# Set up credentials \n",
    "project_id = 'soy-storm-359817'\n",
    "credentials = service_account.Credentials.from_service_account_file('../credentials/soy-storm-359817-3864bb8984b2.json')"
   ]
  },
  {
   "cell_type": "code",
   "execution_count": 11,
   "id": "7e78213a",
   "metadata": {},
   "outputs": [],
   "source": [
    "# test the connection\n",
    "bq_client = bigquery.Client(\n",
    "    project=project_id,\n",
    "    credentials=credentials,\n",
    ")"
   ]
  },
  {
   "cell_type": "code",
   "execution_count": 15,
   "id": "352958b8",
   "metadata": {},
   "outputs": [],
   "source": [
    "# parameters\n",
    "project = 'bigquery-public-data'\n",
    "dataset = 'hacker_news'"
   ]
  },
  {
   "cell_type": "markdown",
   "id": "975b5c71",
   "metadata": {},
   "source": [
    "## Explore: Schema on BigQuery\n",
    "\n",
    "`hacker_news`: This dataset contains all stories and comments from Hacker News from its launch in 2006.  Each story contains a story id, the author that made the post, when it was written, and the number of points the story received. "
   ]
  },
  {
   "cell_type": "code",
   "execution_count": 3,
   "id": "849344e1",
   "metadata": {},
   "outputs": [],
   "source": [
    "from utils import bq_to_dataframe\n",
    "from utils import bq_explore_schema"
   ]
  },
  {
   "cell_type": "code",
   "execution_count": 5,
   "id": "1182371e",
   "metadata": {},
   "outputs": [
    {
     "name": "stdout",
     "output_type": "stream",
     "text": [
      "\u001B[0;31mSignature:\u001B[0m\n",
      "\u001B[0mbq_to_dataframe\u001B[0m\u001B[0;34m(\u001B[0m\u001B[0;34m\u001B[0m\n",
      "\u001B[0;34m\u001B[0m    \u001B[0mbq_client\u001B[0m\u001B[0;34m:\u001B[0m \u001B[0mgoogle\u001B[0m\u001B[0;34m.\u001B[0m\u001B[0mcloud\u001B[0m\u001B[0;34m.\u001B[0m\u001B[0mbigquery\u001B[0m\u001B[0;34m.\u001B[0m\u001B[0mclient\u001B[0m\u001B[0;34m.\u001B[0m\u001B[0mClient\u001B[0m\u001B[0;34m,\u001B[0m\u001B[0;34m\u001B[0m\n",
      "\u001B[0;34m\u001B[0m    \u001B[0msql_script\u001B[0m\u001B[0;34m:\u001B[0m \u001B[0mstr\u001B[0m\u001B[0;34m,\u001B[0m\u001B[0;34m\u001B[0m\n",
      "\u001B[0;34m\u001B[0m\u001B[0;34m)\u001B[0m \u001B[0;34m->\u001B[0m \u001B[0mpandas\u001B[0m\u001B[0;34m.\u001B[0m\u001B[0mcore\u001B[0m\u001B[0;34m.\u001B[0m\u001B[0mframe\u001B[0m\u001B[0;34m.\u001B[0m\u001B[0mDataFrame\u001B[0m\u001B[0;34m\u001B[0m\u001B[0;34m\u001B[0m\u001B[0m\n",
      "\u001B[0;31mDocstring:\u001B[0m\n",
      "Executes a SQL script and returns a pandas dataframe\n",
      "Args:\n",
      "    bq_client: BigQuery client\n",
      "    sql_script: SQL script to be executed\n",
      "Returns:\n",
      "    pandas dataframe\n",
      "\u001B[0;31mFile:\u001B[0m      ~/Developer/analytics-training-samples/bigquery-notebooks/utils.py\n",
      "\u001B[0;31mType:\u001B[0m      function\n"
     ]
    }
   ],
   "source": [
    "?bq_to_dataframe"
   ]
  },
  {
   "cell_type": "code",
   "execution_count": 6,
   "id": "16dfe182",
   "metadata": {},
   "outputs": [
    {
     "name": "stdout",
     "output_type": "stream",
     "text": [
      "\u001B[0;31mSignature:\u001B[0m\n",
      "\u001B[0mbq_explore_schema\u001B[0m\u001B[0;34m(\u001B[0m\u001B[0;34m\u001B[0m\n",
      "\u001B[0;34m\u001B[0m    \u001B[0mbq_client\u001B[0m\u001B[0;34m:\u001B[0m \u001B[0mgoogle\u001B[0m\u001B[0;34m.\u001B[0m\u001B[0mcloud\u001B[0m\u001B[0;34m.\u001B[0m\u001B[0mbigquery\u001B[0m\u001B[0;34m.\u001B[0m\u001B[0mclient\u001B[0m\u001B[0;34m.\u001B[0m\u001B[0mClient\u001B[0m\u001B[0;34m,\u001B[0m\u001B[0;34m\u001B[0m\n",
      "\u001B[0;34m\u001B[0m    \u001B[0mproject\u001B[0m\u001B[0;34m:\u001B[0m \u001B[0mstr\u001B[0m\u001B[0;34m,\u001B[0m\u001B[0;34m\u001B[0m\n",
      "\u001B[0;34m\u001B[0m    \u001B[0mdataset\u001B[0m\u001B[0;34m:\u001B[0m \u001B[0mstr\u001B[0m\u001B[0;34m,\u001B[0m\u001B[0;34m\u001B[0m\n",
      "\u001B[0;34m\u001B[0m\u001B[0;34m)\u001B[0m \u001B[0;34m->\u001B[0m \u001B[0mpandas\u001B[0m\u001B[0;34m.\u001B[0m\u001B[0mcore\u001B[0m\u001B[0;34m.\u001B[0m\u001B[0mframe\u001B[0m\u001B[0;34m.\u001B[0m\u001B[0mDataFrame\u001B[0m\u001B[0;34m\u001B[0m\u001B[0;34m\u001B[0m\u001B[0m\n",
      "\u001B[0;31mDocstring:\u001B[0m\n",
      "Explores the schema of a BigQuery dataset\n",
      "Args:\n",
      "    bq_client: BigQuery client\n",
      "    project: project id\n",
      "    dataset: dataset name\n",
      "Returns:\n",
      "    pandas dataframe\n",
      "\u001B[0;31mFile:\u001B[0m      ~/Developer/analytics-training-samples/bigquery-notebooks/utils.py\n",
      "\u001B[0;31mType:\u001B[0m      function\n"
     ]
    }
   ],
   "source": [
    "?bq_explore_schema"
   ]
  },
  {
   "cell_type": "markdown",
   "id": "4bf14f64",
   "metadata": {},
   "source": [
    "### Relate Data & Front-end\n",
    "\n",
    "Relate data to what actually happens in front-end is always a good idea! Check the website of Hackernews: https://news.ycombinator.com/. \n",
    "\n",
    "> How the columns and tables relate to specific components and features of HackerNews site?"
   ]
  },
  {
   "cell_type": "markdown",
   "id": "da14081d",
   "metadata": {},
   "source": [
    "### Check#0: Get-the-sense\n",
    "This is how it looks like on Front-End: https://news.ycombinator.com/item?id=7266618 (You can query any `id` on the front-end).\n",
    "\n",
    "1. `Story` would have these key information: `point`, `author`, `time` and `descendants` = total number of comments (direct and comment-under-comment)\n",
    "2. `Comment` would have these key information: `author`, `time`, `parent`\n",
    "3. `id` of stories would appear as `parent` of comments\n",
    "4. `id` of comments could appear as `parent` of other replying comments"
   ]
  },
  {
   "cell_type": "code",
   "execution_count": 59,
   "id": "2c6cf9b6",
   "metadata": {},
   "outputs": [
    {
     "data": {
      "text/html": [
       "<div>\n",
       "<style scoped>\n",
       "    .dataframe tbody tr th:only-of-type {\n",
       "        vertical-align: middle;\n",
       "    }\n",
       "\n",
       "    .dataframe tbody tr th {\n",
       "        vertical-align: top;\n",
       "    }\n",
       "\n",
       "    .dataframe thead th {\n",
       "        text-align: right;\n",
       "    }\n",
       "</style>\n",
       "<table border=\"1\" class=\"dataframe\">\n",
       "  <thead>\n",
       "    <tr style=\"text-align: right;\">\n",
       "      <th></th>\n",
       "      <th>by</th>\n",
       "      <th>score</th>\n",
       "      <th>time</th>\n",
       "      <th>title</th>\n",
       "      <th>type</th>\n",
       "      <th>url</th>\n",
       "      <th>text</th>\n",
       "      <th>parent</th>\n",
       "      <th>deleted</th>\n",
       "      <th>dead</th>\n",
       "      <th>descendants</th>\n",
       "      <th>id</th>\n",
       "      <th>ranking</th>\n",
       "    </tr>\n",
       "  </thead>\n",
       "  <tbody>\n",
       "    <tr>\n",
       "      <th>0</th>\n",
       "      <td>vassvdm</td>\n",
       "      <td>1129</td>\n",
       "      <td>1392847746</td>\n",
       "      <td>Facebook Buying WhatsApp for $16B in Cash and ...</td>\n",
       "      <td>story</td>\n",
       "      <td>http://techcrunch.com/2014/02/19/facebook-buyi...</td>\n",
       "      <td></td>\n",
       "      <td>&lt;NA&gt;</td>\n",
       "      <td>&lt;NA&gt;</td>\n",
       "      <td>&lt;NA&gt;</td>\n",
       "      <td>802</td>\n",
       "      <td>7266618</td>\n",
       "      <td>&lt;NA&gt;</td>\n",
       "    </tr>\n",
       "    <tr>\n",
       "      <th>1</th>\n",
       "      <td>minimaxir</td>\n",
       "      <td>&lt;NA&gt;</td>\n",
       "      <td>1392847964</td>\n",
       "      <td>None</td>\n",
       "      <td>comment</td>\n",
       "      <td>None</td>\n",
       "      <td>Suddenly Snapchat at $3B doesn&amp;#x27;t seem so ...</td>\n",
       "      <td>7266618</td>\n",
       "      <td>&lt;NA&gt;</td>\n",
       "      <td>&lt;NA&gt;</td>\n",
       "      <td>&lt;NA&gt;</td>\n",
       "      <td>7266651</td>\n",
       "      <td>&lt;NA&gt;</td>\n",
       "    </tr>\n",
       "    <tr>\n",
       "      <th>2</th>\n",
       "      <td>Karunamon</td>\n",
       "      <td>&lt;NA&gt;</td>\n",
       "      <td>1392847965</td>\n",
       "      <td>None</td>\n",
       "      <td>comment</td>\n",
       "      <td>None</td>\n",
       "      <td>Welp. There&amp;#x27;s another app that I won&amp;#x27...</td>\n",
       "      <td>7266618</td>\n",
       "      <td>&lt;NA&gt;</td>\n",
       "      <td>&lt;NA&gt;</td>\n",
       "      <td>&lt;NA&gt;</td>\n",
       "      <td>7266652</td>\n",
       "      <td>&lt;NA&gt;</td>\n",
       "    </tr>\n",
       "    <tr>\n",
       "      <th>3</th>\n",
       "      <td>higherpurpose</td>\n",
       "      <td>&lt;NA&gt;</td>\n",
       "      <td>1392847968</td>\n",
       "      <td>None</td>\n",
       "      <td>comment</td>\n",
       "      <td>None</td>\n",
       "      <td>Such a waste. Most Whatsapp users already use ...</td>\n",
       "      <td>7266618</td>\n",
       "      <td>&lt;NA&gt;</td>\n",
       "      <td>&lt;NA&gt;</td>\n",
       "      <td>&lt;NA&gt;</td>\n",
       "      <td>7266655</td>\n",
       "      <td>&lt;NA&gt;</td>\n",
       "    </tr>\n",
       "    <tr>\n",
       "      <th>4</th>\n",
       "      <td>None</td>\n",
       "      <td>&lt;NA&gt;</td>\n",
       "      <td>1392848005</td>\n",
       "      <td>None</td>\n",
       "      <td>comment</td>\n",
       "      <td>None</td>\n",
       "      <td>None</td>\n",
       "      <td>7266618</td>\n",
       "      <td>True</td>\n",
       "      <td>&lt;NA&gt;</td>\n",
       "      <td>&lt;NA&gt;</td>\n",
       "      <td>7266660</td>\n",
       "      <td>&lt;NA&gt;</td>\n",
       "    </tr>\n",
       "  </tbody>\n",
       "</table>\n",
       "</div>"
      ],
      "text/plain": [
       "              by  score        time  \\\n",
       "0        vassvdm   1129  1392847746   \n",
       "1      minimaxir   <NA>  1392847964   \n",
       "2      Karunamon   <NA>  1392847965   \n",
       "3  higherpurpose   <NA>  1392847968   \n",
       "4           None   <NA>  1392848005   \n",
       "\n",
       "                                               title     type  \\\n",
       "0  Facebook Buying WhatsApp for $16B in Cash and ...    story   \n",
       "1                                               None  comment   \n",
       "2                                               None  comment   \n",
       "3                                               None  comment   \n",
       "4                                               None  comment   \n",
       "\n",
       "                                                 url  \\\n",
       "0  http://techcrunch.com/2014/02/19/facebook-buyi...   \n",
       "1                                               None   \n",
       "2                                               None   \n",
       "3                                               None   \n",
       "4                                               None   \n",
       "\n",
       "                                                text   parent  deleted  dead  \\\n",
       "0                                                        <NA>     <NA>  <NA>   \n",
       "1  Suddenly Snapchat at $3B doesn&#x27;t seem so ...  7266618     <NA>  <NA>   \n",
       "2  Welp. There&#x27;s another app that I won&#x27...  7266618     <NA>  <NA>   \n",
       "3  Such a waste. Most Whatsapp users already use ...  7266618     <NA>  <NA>   \n",
       "4                                               None  7266618     True  <NA>   \n",
       "\n",
       "   descendants       id  ranking  \n",
       "0          802  7266618     <NA>  \n",
       "1         <NA>  7266651     <NA>  \n",
       "2         <NA>  7266652     <NA>  \n",
       "3         <NA>  7266655     <NA>  \n",
       "4         <NA>  7266660     <NA>  "
      ]
     },
     "execution_count": 59,
     "metadata": {},
     "output_type": "execute_result"
    }
   ],
   "source": [
    "# This is a story\n",
    "bq_to_dataframe(bq_client, \n",
    "    f'''\n",
    "    SELECT  \n",
    "        *\n",
    "    FROM `bigquery-public-data.hacker_news.full_201510` \n",
    "    WHERE parent = 7266618\n",
    "    OR id = 7266618\n",
    "    ORDER BY time\n",
    "    LIMIT 5\n",
    "    '''\n",
    "    )"
   ]
  },
  {
   "cell_type": "code",
   "execution_count": 68,
   "id": "a81b886b",
   "metadata": {},
   "outputs": [
    {
     "data": {
      "text/html": [
       "<div>\n",
       "<style scoped>\n",
       "    .dataframe tbody tr th:only-of-type {\n",
       "        vertical-align: middle;\n",
       "    }\n",
       "\n",
       "    .dataframe tbody tr th {\n",
       "        vertical-align: top;\n",
       "    }\n",
       "\n",
       "    .dataframe thead th {\n",
       "        text-align: right;\n",
       "    }\n",
       "</style>\n",
       "<table border=\"1\" class=\"dataframe\">\n",
       "  <thead>\n",
       "    <tr style=\"text-align: right;\">\n",
       "      <th></th>\n",
       "      <th>by</th>\n",
       "      <th>score</th>\n",
       "      <th>time</th>\n",
       "      <th>title</th>\n",
       "      <th>type</th>\n",
       "      <th>url</th>\n",
       "      <th>text</th>\n",
       "      <th>parent</th>\n",
       "      <th>deleted</th>\n",
       "      <th>dead</th>\n",
       "      <th>descendants</th>\n",
       "      <th>id</th>\n",
       "      <th>ranking</th>\n",
       "    </tr>\n",
       "  </thead>\n",
       "  <tbody>\n",
       "    <tr>\n",
       "      <th>0</th>\n",
       "      <td>None</td>\n",
       "      <td>&lt;NA&gt;</td>\n",
       "      <td>&lt;NA&gt;</td>\n",
       "      <td>None</td>\n",
       "      <td>comment_ranking</td>\n",
       "      <td>None</td>\n",
       "      <td>None</td>\n",
       "      <td>&lt;NA&gt;</td>\n",
       "      <td>&lt;NA&gt;</td>\n",
       "      <td>&lt;NA&gt;</td>\n",
       "      <td>&lt;NA&gt;</td>\n",
       "      <td>7266768</td>\n",
       "      <td>0</td>\n",
       "    </tr>\n",
       "    <tr>\n",
       "      <th>1</th>\n",
       "      <td>nwh</td>\n",
       "      <td>&lt;NA&gt;</td>\n",
       "      <td>1392848517</td>\n",
       "      <td>None</td>\n",
       "      <td>comment</td>\n",
       "      <td>None</td>\n",
       "      <td>&lt;p&gt;&lt;pre&gt;&lt;code&gt;    400,000,000 active users [0]...</td>\n",
       "      <td>7266618</td>\n",
       "      <td>&lt;NA&gt;</td>\n",
       "      <td>&lt;NA&gt;</td>\n",
       "      <td>&lt;NA&gt;</td>\n",
       "      <td>7266768</td>\n",
       "      <td>&lt;NA&gt;</td>\n",
       "    </tr>\n",
       "    <tr>\n",
       "      <th>2</th>\n",
       "      <td>psbp</td>\n",
       "      <td>&lt;NA&gt;</td>\n",
       "      <td>1392848661</td>\n",
       "      <td>None</td>\n",
       "      <td>comment</td>\n",
       "      <td>None</td>\n",
       "      <td>Or facebook is trying to trivialize and destro...</td>\n",
       "      <td>7266768</td>\n",
       "      <td>&lt;NA&gt;</td>\n",
       "      <td>&lt;NA&gt;</td>\n",
       "      <td>&lt;NA&gt;</td>\n",
       "      <td>7266799</td>\n",
       "      <td>&lt;NA&gt;</td>\n",
       "    </tr>\n",
       "    <tr>\n",
       "      <th>3</th>\n",
       "      <td>mathattack</td>\n",
       "      <td>&lt;NA&gt;</td>\n",
       "      <td>1392848840</td>\n",
       "      <td>None</td>\n",
       "      <td>comment</td>\n",
       "      <td>None</td>\n",
       "      <td>I don&amp;#x27;t think they&amp;#x27;re buying it per ...</td>\n",
       "      <td>7266768</td>\n",
       "      <td>&lt;NA&gt;</td>\n",
       "      <td>&lt;NA&gt;</td>\n",
       "      <td>&lt;NA&gt;</td>\n",
       "      <td>7266834</td>\n",
       "      <td>&lt;NA&gt;</td>\n",
       "    </tr>\n",
       "    <tr>\n",
       "      <th>4</th>\n",
       "      <td>theboss</td>\n",
       "      <td>&lt;NA&gt;</td>\n",
       "      <td>1392848847</td>\n",
       "      <td>None</td>\n",
       "      <td>comment</td>\n",
       "      <td>None</td>\n",
       "      <td>Is it possible that this is also for user rete...</td>\n",
       "      <td>7266768</td>\n",
       "      <td>&lt;NA&gt;</td>\n",
       "      <td>&lt;NA&gt;</td>\n",
       "      <td>&lt;NA&gt;</td>\n",
       "      <td>7266836</td>\n",
       "      <td>&lt;NA&gt;</td>\n",
       "    </tr>\n",
       "  </tbody>\n",
       "</table>\n",
       "</div>"
      ],
      "text/plain": [
       "           by  score        time title             type   url  \\\n",
       "0        None   <NA>        <NA>  None  comment_ranking  None   \n",
       "1         nwh   <NA>  1392848517  None          comment  None   \n",
       "2        psbp   <NA>  1392848661  None          comment  None   \n",
       "3  mathattack   <NA>  1392848840  None          comment  None   \n",
       "4     theboss   <NA>  1392848847  None          comment  None   \n",
       "\n",
       "                                                text   parent  deleted  dead  \\\n",
       "0                                               None     <NA>     <NA>  <NA>   \n",
       "1  <p><pre><code>    400,000,000 active users [0]...  7266618     <NA>  <NA>   \n",
       "2  Or facebook is trying to trivialize and destro...  7266768     <NA>  <NA>   \n",
       "3  I don&#x27;t think they&#x27;re buying it per ...  7266768     <NA>  <NA>   \n",
       "4  Is it possible that this is also for user rete...  7266768     <NA>  <NA>   \n",
       "\n",
       "   descendants       id  ranking  \n",
       "0         <NA>  7266768        0  \n",
       "1         <NA>  7266768     <NA>  \n",
       "2         <NA>  7266799     <NA>  \n",
       "3         <NA>  7266834     <NA>  \n",
       "4         <NA>  7266836     <NA>  "
      ]
     },
     "execution_count": 68,
     "metadata": {},
     "output_type": "execute_result"
    }
   ],
   "source": [
    "# This is the comment as parent\n",
    "bq_to_dataframe(bq_client, \n",
    "    f'''\n",
    "    SELECT  \n",
    "        *\n",
    "    FROM `bigquery-public-data.hacker_news.full_201510` \n",
    "    WHERE id = 7266768\n",
    "    OR parent = 7266768\n",
    "    ORDER BY time\n",
    "    LIMIT 5\n",
    "    '''\n",
    "    )"
   ]
  },
  {
   "cell_type": "markdown",
   "id": "d8c5ffc7",
   "metadata": {},
   "source": [
    "### Check schemas\n",
    "\n",
    "We have written some handy functions in `utils.py` that help us to explore the schema"
   ]
  },
  {
   "cell_type": "code",
   "execution_count": 11,
   "id": "690dd677",
   "metadata": {},
   "outputs": [
    {
     "data": {
      "text/html": [
       "<div>\n",
       "<style scoped>\n",
       "    .dataframe tbody tr th:only-of-type {\n",
       "        vertical-align: middle;\n",
       "    }\n",
       "\n",
       "    .dataframe tbody tr th {\n",
       "        vertical-align: top;\n",
       "    }\n",
       "\n",
       "    .dataframe thead th {\n",
       "        text-align: right;\n",
       "    }\n",
       "</style>\n",
       "<table border=\"1\" class=\"dataframe\">\n",
       "  <thead>\n",
       "    <tr style=\"text-align: right;\">\n",
       "      <th></th>\n",
       "      <th>table_catalog</th>\n",
       "      <th>table_schema</th>\n",
       "      <th>table_name</th>\n",
       "      <th>column_name</th>\n",
       "      <th>ordinal_position</th>\n",
       "      <th>is_nullable</th>\n",
       "      <th>data_type</th>\n",
       "      <th>is_generated</th>\n",
       "      <th>generation_expression</th>\n",
       "      <th>is_stored</th>\n",
       "      <th>is_hidden</th>\n",
       "      <th>is_updatable</th>\n",
       "      <th>is_system_defined</th>\n",
       "      <th>is_partitioning_column</th>\n",
       "      <th>clustering_ordinal_position</th>\n",
       "      <th>collation_name</th>\n",
       "      <th>column_default</th>\n",
       "    </tr>\n",
       "  </thead>\n",
       "  <tbody>\n",
       "    <tr>\n",
       "      <th>0</th>\n",
       "      <td>bigquery-public-data</td>\n",
       "      <td>hacker_news</td>\n",
       "      <td>full_201510</td>\n",
       "      <td>by</td>\n",
       "      <td>1</td>\n",
       "      <td>YES</td>\n",
       "      <td>STRING</td>\n",
       "      <td>NEVER</td>\n",
       "      <td>None</td>\n",
       "      <td>None</td>\n",
       "      <td>NO</td>\n",
       "      <td>None</td>\n",
       "      <td>NO</td>\n",
       "      <td>NO</td>\n",
       "      <td>&lt;NA&gt;</td>\n",
       "      <td>NULL</td>\n",
       "      <td>NULL</td>\n",
       "    </tr>\n",
       "    <tr>\n",
       "      <th>1</th>\n",
       "      <td>bigquery-public-data</td>\n",
       "      <td>hacker_news</td>\n",
       "      <td>full_201510</td>\n",
       "      <td>score</td>\n",
       "      <td>2</td>\n",
       "      <td>YES</td>\n",
       "      <td>INT64</td>\n",
       "      <td>NEVER</td>\n",
       "      <td>None</td>\n",
       "      <td>None</td>\n",
       "      <td>NO</td>\n",
       "      <td>None</td>\n",
       "      <td>NO</td>\n",
       "      <td>NO</td>\n",
       "      <td>&lt;NA&gt;</td>\n",
       "      <td>NULL</td>\n",
       "      <td>NULL</td>\n",
       "    </tr>\n",
       "    <tr>\n",
       "      <th>2</th>\n",
       "      <td>bigquery-public-data</td>\n",
       "      <td>hacker_news</td>\n",
       "      <td>full_201510</td>\n",
       "      <td>time</td>\n",
       "      <td>3</td>\n",
       "      <td>YES</td>\n",
       "      <td>INT64</td>\n",
       "      <td>NEVER</td>\n",
       "      <td>None</td>\n",
       "      <td>None</td>\n",
       "      <td>NO</td>\n",
       "      <td>None</td>\n",
       "      <td>NO</td>\n",
       "      <td>NO</td>\n",
       "      <td>&lt;NA&gt;</td>\n",
       "      <td>NULL</td>\n",
       "      <td>NULL</td>\n",
       "    </tr>\n",
       "    <tr>\n",
       "      <th>3</th>\n",
       "      <td>bigquery-public-data</td>\n",
       "      <td>hacker_news</td>\n",
       "      <td>full_201510</td>\n",
       "      <td>title</td>\n",
       "      <td>4</td>\n",
       "      <td>YES</td>\n",
       "      <td>STRING</td>\n",
       "      <td>NEVER</td>\n",
       "      <td>None</td>\n",
       "      <td>None</td>\n",
       "      <td>NO</td>\n",
       "      <td>None</td>\n",
       "      <td>NO</td>\n",
       "      <td>NO</td>\n",
       "      <td>&lt;NA&gt;</td>\n",
       "      <td>NULL</td>\n",
       "      <td>NULL</td>\n",
       "    </tr>\n",
       "    <tr>\n",
       "      <th>4</th>\n",
       "      <td>bigquery-public-data</td>\n",
       "      <td>hacker_news</td>\n",
       "      <td>full_201510</td>\n",
       "      <td>type</td>\n",
       "      <td>5</td>\n",
       "      <td>YES</td>\n",
       "      <td>STRING</td>\n",
       "      <td>NEVER</td>\n",
       "      <td>None</td>\n",
       "      <td>None</td>\n",
       "      <td>NO</td>\n",
       "      <td>None</td>\n",
       "      <td>NO</td>\n",
       "      <td>NO</td>\n",
       "      <td>&lt;NA&gt;</td>\n",
       "      <td>NULL</td>\n",
       "      <td>NULL</td>\n",
       "    </tr>\n",
       "  </tbody>\n",
       "</table>\n",
       "</div>"
      ],
      "text/plain": [
       "          table_catalog table_schema   table_name column_name  \\\n",
       "0  bigquery-public-data  hacker_news  full_201510          by   \n",
       "1  bigquery-public-data  hacker_news  full_201510       score   \n",
       "2  bigquery-public-data  hacker_news  full_201510        time   \n",
       "3  bigquery-public-data  hacker_news  full_201510       title   \n",
       "4  bigquery-public-data  hacker_news  full_201510        type   \n",
       "\n",
       "   ordinal_position is_nullable data_type is_generated generation_expression  \\\n",
       "0                 1         YES    STRING        NEVER                  None   \n",
       "1                 2         YES     INT64        NEVER                  None   \n",
       "2                 3         YES     INT64        NEVER                  None   \n",
       "3                 4         YES    STRING        NEVER                  None   \n",
       "4                 5         YES    STRING        NEVER                  None   \n",
       "\n",
       "  is_stored is_hidden is_updatable is_system_defined is_partitioning_column  \\\n",
       "0      None        NO         None                NO                     NO   \n",
       "1      None        NO         None                NO                     NO   \n",
       "2      None        NO         None                NO                     NO   \n",
       "3      None        NO         None                NO                     NO   \n",
       "4      None        NO         None                NO                     NO   \n",
       "\n",
       "   clustering_ordinal_position collation_name column_default  \n",
       "0                         <NA>           NULL           NULL  \n",
       "1                         <NA>           NULL           NULL  \n",
       "2                         <NA>           NULL           NULL  \n",
       "3                         <NA>           NULL           NULL  \n",
       "4                         <NA>           NULL           NULL  "
      ]
     },
     "execution_count": 11,
     "metadata": {},
     "output_type": "execute_result"
    }
   ],
   "source": [
    "schema_data = bq_explore_schema(bq_client, project, dataset)\n",
    "schema_data.head()"
   ]
  },
  {
   "cell_type": "code",
   "execution_count": 12,
   "id": "e4356ac9",
   "metadata": {},
   "outputs": [
    {
     "name": "stdout",
     "output_type": "stream",
     "text": [
      "----------------TABLE: full_201510----------------\n",
      "['by' 'score' 'time' 'title' 'type' 'url' 'text' 'parent' 'deleted' 'dead'\n",
      " 'descendants' 'id' 'ranking']\n",
      "-------------------TABLE: full--------------------\n",
      "['title' 'url' 'text' 'dead' 'by' 'score' 'time' 'timestamp' 'type' 'id'\n",
      " 'parent' 'descendants' 'ranking' 'deleted']\n",
      "-----------------TABLE: comments------------------\n",
      "['id' 'by' 'author' 'time' 'time_ts' 'text' 'parent' 'deleted' 'dead'\n",
      " 'ranking']\n",
      "------------------TABLE: stories------------------\n",
      "['id' 'by' 'score' 'time' 'time_ts' 'title' 'url' 'text' 'deleted' 'dead'\n",
      " 'descendants' 'author']\n"
     ]
    }
   ],
   "source": [
    "# Loops through all tables in `haker_news` and list the column_name\n",
    "for table in schema_data.table_name.unique():\n",
    "    print(f'TABLE: {table}'.center(50, '-'))\n",
    "    print(schema_data[schema_data.table_name==table].column_name.unique())"
   ]
  },
  {
   "cell_type": "markdown",
   "id": "f04be724",
   "metadata": {},
   "source": [
    "### Summary tables"
   ]
  },
  {
   "cell_type": "code",
   "execution_count": 13,
   "id": "7148776b",
   "metadata": {},
   "outputs": [
    {
     "name": "stdout",
     "output_type": "stream",
     "text": [
      "TABLE: full_201510\n",
      "TABLE: full\n",
      "TABLE: comments\n",
      "TABLE: stories\n"
     ]
    }
   ],
   "source": [
    "df_summary = {}\n",
    "for table in schema_data.table_name.unique():\n",
    "    # Loop through all col and count\n",
    "    derived_cols = '\\n\\t'.join({f'COUNT({col}) AS {col}_cnt,' for col in schema_data[schema_data.table_name==table].column_name if col != 'by'})\n",
    "    print(f'TABLE: {table}')\n",
    "    # Create the BQ query with the loop \n",
    "    summary_out = bq_to_dataframe(bq_client, \n",
    "    f'''\n",
    "    SELECT\n",
    "        COUNT(DISTINCT id) AS id_dist_cnt, \n",
    "        COUNT(id) AS row_cnt,\n",
    "        TIMESTAMP_SECONDS(MIN(time)) AS min_time,\n",
    "        TIMESTAMP_SECONDS(MAX(time)) AS max_time,\n",
    "        {derived_cols}\n",
    "    FROM `{project}.{dataset}.{table}`\n",
    "    '''\n",
    "    )\n",
    "    # Append the result to the dictionary\n",
    "    df_summary[table] = summary_out # Save the summary to dictionary for later \n",
    "\n",
    "        "
   ]
  },
  {
   "cell_type": "code",
   "execution_count": 14,
   "id": "45b93475",
   "metadata": {},
   "outputs": [
    {
     "data": {
      "text/html": [
       "<div>\n",
       "<style scoped>\n",
       "    .dataframe tbody tr th:only-of-type {\n",
       "        vertical-align: middle;\n",
       "    }\n",
       "\n",
       "    .dataframe tbody tr th {\n",
       "        vertical-align: top;\n",
       "    }\n",
       "\n",
       "    .dataframe thead th {\n",
       "        text-align: right;\n",
       "    }\n",
       "</style>\n",
       "<table border=\"1\" class=\"dataframe\">\n",
       "  <thead>\n",
       "    <tr style=\"text-align: right;\">\n",
       "      <th>id_cnt</th>\n",
       "      <th>18778427</th>\n",
       "    </tr>\n",
       "  </thead>\n",
       "  <tbody>\n",
       "    <tr>\n",
       "      <th>id_dist_cnt</th>\n",
       "      <td>10379010</td>\n",
       "    </tr>\n",
       "    <tr>\n",
       "      <th>row_cnt</th>\n",
       "      <td>18778427</td>\n",
       "    </tr>\n",
       "    <tr>\n",
       "      <th>min_time</th>\n",
       "      <td>2006-10-09 18:21:51+00:00</td>\n",
       "    </tr>\n",
       "    <tr>\n",
       "      <th>max_time</th>\n",
       "      <td>2015-10-13 08:44:34+00:00</td>\n",
       "    </tr>\n",
       "    <tr>\n",
       "      <th>dead_cnt</th>\n",
       "      <td>493886</td>\n",
       "    </tr>\n",
       "    <tr>\n",
       "      <th>url_cnt</th>\n",
       "      <td>1846185</td>\n",
       "    </tr>\n",
       "    <tr>\n",
       "      <th>ranking_cnt</th>\n",
       "      <td>8399638</td>\n",
       "    </tr>\n",
       "    <tr>\n",
       "      <th>time_cnt</th>\n",
       "      <td>10353068</td>\n",
       "    </tr>\n",
       "    <tr>\n",
       "      <th>descendants_cnt</th>\n",
       "      <td>1743034</td>\n",
       "    </tr>\n",
       "    <tr>\n",
       "      <th>title_cnt</th>\n",
       "      <td>1849180</td>\n",
       "    </tr>\n",
       "    <tr>\n",
       "      <th>parent_cnt</th>\n",
       "      <td>8410926</td>\n",
       "    </tr>\n",
       "    <tr>\n",
       "      <th>text_cnt</th>\n",
       "      <td>9615420</td>\n",
       "    </tr>\n",
       "    <tr>\n",
       "      <th>type_cnt</th>\n",
       "      <td>18778427</td>\n",
       "    </tr>\n",
       "    <tr>\n",
       "      <th>score_cnt</th>\n",
       "      <td>1859512</td>\n",
       "    </tr>\n",
       "    <tr>\n",
       "      <th>deleted_cnt</th>\n",
       "      <td>321385</td>\n",
       "    </tr>\n",
       "  </tbody>\n",
       "</table>\n",
       "</div>"
      ],
      "text/plain": [
       "id_cnt                            18778427\n",
       "id_dist_cnt                       10379010\n",
       "row_cnt                           18778427\n",
       "min_time         2006-10-09 18:21:51+00:00\n",
       "max_time         2015-10-13 08:44:34+00:00\n",
       "dead_cnt                            493886\n",
       "url_cnt                            1846185\n",
       "ranking_cnt                        8399638\n",
       "time_cnt                          10353068\n",
       "descendants_cnt                    1743034\n",
       "title_cnt                          1849180\n",
       "parent_cnt                         8410926\n",
       "text_cnt                           9615420\n",
       "type_cnt                          18778427\n",
       "score_cnt                          1859512\n",
       "deleted_cnt                         321385"
      ]
     },
     "execution_count": 14,
     "metadata": {},
     "output_type": "execute_result"
    }
   ],
   "source": [
    "# Extract the summary of `full_201510`\n",
    "df_summary['full_201510'].set_index('id_cnt').T"
   ]
  },
  {
   "cell_type": "code",
   "execution_count": 15,
   "id": "5ad0ab0f",
   "metadata": {},
   "outputs": [],
   "source": [
    "# write the summary of BigQuery tables to a `hacker_news_summary.txt` file for later. \n",
    "with open('hacker_news_summary.txt', 'w') as f:\n",
    "    for table in schema_data.table_name.unique():\n",
    "        f.write(f'TABLE: {table}'.center(50, '-'))\n",
    "        f.write('\\n')\n",
    "        f.write(str(df_summary[table].set_index('id_cnt').T))\n",
    "        f.write('\\n')"
   ]
  },
  {
   "cell_type": "markdown",
   "id": "48ab7f8c",
   "metadata": {},
   "source": [
    "### Check#1: Timeliness / Historical\n",
    "\n",
    "From the summary result stored in `hacker_news_summary.txt`:\n",
    "- Table `full` includes the updated data from 2006 till now 2022\n",
    "- Table `full_201510` (as the name) includes data till `2015-10-13`\n",
    "- Table `full_201510` has `10,379,010` ids (ids seems duplicated)\n",
    "- Table `comments` (same duration with `full_201510`) - has `8,399,417` (ids unique for rows)\n",
    "- Table `stories` (same duration with `full_201510`) - has `1,959,809` (ids unique for rows)\n",
    "- [CHECK] Consider the number of rows of `comments` and `stories`, we might have the educated guess that these two datasets are splitted from `full_201510`.\n",
    "\n",
    "For our analysis, could scope down to focus on `2015` time-window (This is for the purpose of demo, we choose a smaller dataset to practice. In reality, we might prefer the `full` which are more updated)"
   ]
  },
  {
   "cell_type": "markdown",
   "id": "e6b5b8f4",
   "metadata": {},
   "source": [
    "### Check#2: Completeness"
   ]
  },
  {
   "cell_type": "markdown",
   "id": "0e561a39",
   "metadata": {},
   "source": [
    "#### `full_201510`\n",
    "- [GOOD] `type` highly available 100%\n",
    "- [CHECK] `time_ts` supposed to highly available, but only available for 55%\n",
    "- [CHECK] `title`, `parent`, `text`, `title`, `ranking` also not highly available"
   ]
  },
  {
   "cell_type": "code",
   "execution_count": 16,
   "id": "a646c07c",
   "metadata": {},
   "outputs": [
    {
     "data": {
      "text/html": [
       "<div>\n",
       "<style scoped>\n",
       "    .dataframe tbody tr th:only-of-type {\n",
       "        vertical-align: middle;\n",
       "    }\n",
       "\n",
       "    .dataframe tbody tr th {\n",
       "        vertical-align: top;\n",
       "    }\n",
       "\n",
       "    .dataframe thead th {\n",
       "        text-align: right;\n",
       "    }\n",
       "</style>\n",
       "<table border=\"1\" class=\"dataframe\">\n",
       "  <thead>\n",
       "    <tr style=\"text-align: right;\">\n",
       "      <th></th>\n",
       "      <th>dead_cnt</th>\n",
       "      <th>id_cnt</th>\n",
       "      <th>url_cnt</th>\n",
       "      <th>ranking_cnt</th>\n",
       "      <th>time_cnt</th>\n",
       "      <th>descendants_cnt</th>\n",
       "      <th>title_cnt</th>\n",
       "      <th>parent_cnt</th>\n",
       "      <th>text_cnt</th>\n",
       "      <th>type_cnt</th>\n",
       "      <th>score_cnt</th>\n",
       "      <th>deleted_cnt</th>\n",
       "    </tr>\n",
       "  </thead>\n",
       "  <tbody>\n",
       "    <tr>\n",
       "      <th>0</th>\n",
       "      <td>0.026301</td>\n",
       "      <td>1.0</td>\n",
       "      <td>0.098314</td>\n",
       "      <td>0.447303</td>\n",
       "      <td>0.551328</td>\n",
       "      <td>0.092821</td>\n",
       "      <td>0.098474</td>\n",
       "      <td>0.447904</td>\n",
       "      <td>0.512046</td>\n",
       "      <td>1.0</td>\n",
       "      <td>0.099024</td>\n",
       "      <td>0.017115</td>\n",
       "    </tr>\n",
       "  </tbody>\n",
       "</table>\n",
       "</div>"
      ],
      "text/plain": [
       "   dead_cnt  id_cnt   url_cnt  ranking_cnt  time_cnt  descendants_cnt  \\\n",
       "0  0.026301     1.0  0.098314     0.447303  0.551328         0.092821   \n",
       "\n",
       "   title_cnt  parent_cnt  text_cnt  type_cnt  score_cnt  deleted_cnt  \n",
       "0   0.098474    0.447904  0.512046       1.0   0.099024     0.017115  "
      ]
     },
     "execution_count": 16,
     "metadata": {},
     "output_type": "execute_result"
    }
   ],
   "source": [
    "df_summ_full_201510 = df_summary['full_201510']\n",
    "df_summ_full_201510.iloc[:, 4:].div(df_summ_full_201510['row_cnt'], axis=0)"
   ]
  },
  {
   "cell_type": "markdown",
   "id": "43b016b4",
   "metadata": {},
   "source": [
    "We also check the completness over time-period, counts of id increasing overtime (which is expected). \n",
    "\n",
    "For `2015-10`, the count is half of normal trends. This is because we only have the data till mid of 2015-10-13."
   ]
  },
  {
   "cell_type": "code",
   "execution_count": 41,
   "id": "ca2a24ca",
   "metadata": {},
   "outputs": [],
   "source": [
    "df_plt = bq_to_dataframe(bq_client, \n",
    "    f'''\n",
    "    WITH tmp AS (\n",
    "        SELECT\n",
    "            id, \n",
    "            EXTRACT(YEAR FROM TIMESTAMP_SECONDS(time)) AS year,\n",
    "            EXTRACT(MONTH FROM TIMESTAMP_SECONDS(time)) AS month,\n",
    "        FROM `{project}.{dataset}.full_201510`\n",
    "    )\n",
    "        \n",
    "    SELECT\n",
    "        year,\n",
    "        month,\n",
    "        COUNT(DISTINCT id) AS id_uniq_cnt\n",
    "    FROM tmp\n",
    "    GROUP BY 1, 2\n",
    "    ORDER BY 1, 2\n",
    "    '''\n",
    "    )"
   ]
  },
  {
   "cell_type": "code",
   "execution_count": 43,
   "id": "93a57324",
   "metadata": {},
   "outputs": [
    {
     "data": {
      "text/html": [
       "<div>\n",
       "<style scoped>\n",
       "    .dataframe tbody tr th:only-of-type {\n",
       "        vertical-align: middle;\n",
       "    }\n",
       "\n",
       "    .dataframe tbody tr th {\n",
       "        vertical-align: top;\n",
       "    }\n",
       "\n",
       "    .dataframe thead th {\n",
       "        text-align: right;\n",
       "    }\n",
       "</style>\n",
       "<table border=\"1\" class=\"dataframe\">\n",
       "  <thead>\n",
       "    <tr style=\"text-align: right;\">\n",
       "      <th></th>\n",
       "      <th>year</th>\n",
       "      <th>month</th>\n",
       "      <th>id_uniq_cnt</th>\n",
       "    </tr>\n",
       "  </thead>\n",
       "  <tbody>\n",
       "    <tr>\n",
       "      <th>103</th>\n",
       "      <td>2015</td>\n",
       "      <td>6</td>\n",
       "      <td>171418</td>\n",
       "    </tr>\n",
       "    <tr>\n",
       "      <th>104</th>\n",
       "      <td>2015</td>\n",
       "      <td>7</td>\n",
       "      <td>175149</td>\n",
       "    </tr>\n",
       "    <tr>\n",
       "      <th>105</th>\n",
       "      <td>2015</td>\n",
       "      <td>8</td>\n",
       "      <td>164220</td>\n",
       "    </tr>\n",
       "    <tr>\n",
       "      <th>106</th>\n",
       "      <td>2015</td>\n",
       "      <td>9</td>\n",
       "      <td>158213</td>\n",
       "    </tr>\n",
       "    <tr>\n",
       "      <th>107</th>\n",
       "      <td>2015</td>\n",
       "      <td>10</td>\n",
       "      <td>70751</td>\n",
       "    </tr>\n",
       "  </tbody>\n",
       "</table>\n",
       "</div>"
      ],
      "text/plain": [
       "     year  month  id_uniq_cnt\n",
       "103  2015      6       171418\n",
       "104  2015      7       175149\n",
       "105  2015      8       164220\n",
       "106  2015      9       158213\n",
       "107  2015     10        70751"
      ]
     },
     "execution_count": 43,
     "metadata": {},
     "output_type": "execute_result"
    }
   ],
   "source": [
    "df_plt.tail()"
   ]
  },
  {
   "cell_type": "code",
   "execution_count": 42,
   "id": "76b07160",
   "metadata": {},
   "outputs": [
    {
     "data": {
      "image/png": "[encoded data removed]",
      "text/plain": [
       "<Figure size 432x288 with 1 Axes>"
      ]
     },
     "metadata": {
      "needs_background": "light"
     },
     "output_type": "display_data"
    }
   ],
   "source": [
    "df_plt.dropna().id_uniq_cnt.plot()\n",
    "plt.xlabel('period-th')\n",
    "plt.ylabel('id_uniq_cnt')\n",
    "plt.title('Completeness over time periods');"
   ]
  },
  {
   "cell_type": "markdown",
   "id": "6a95ad43",
   "metadata": {},
   "source": [
    "#### `stories`\n",
    "- [GOOD] `time_ts`, `title`, `author`, `score`: highly available\n",
    "- [CHECK] `text`: 30% missing (need to check)\n",
    "- `dead`/`deleted`: missing not dead/delete\n",
    "- `descendants`: missing mean no comment"
   ]
  },
  {
   "cell_type": "code",
   "execution_count": 17,
   "id": "8d113922",
   "metadata": {},
   "outputs": [
    {
     "data": {
      "text/html": [
       "<div>\n",
       "<style scoped>\n",
       "    .dataframe tbody tr th:only-of-type {\n",
       "        vertical-align: middle;\n",
       "    }\n",
       "\n",
       "    .dataframe tbody tr th {\n",
       "        vertical-align: top;\n",
       "    }\n",
       "\n",
       "    .dataframe thead th {\n",
       "        text-align: right;\n",
       "    }\n",
       "</style>\n",
       "<table border=\"1\" class=\"dataframe\">\n",
       "  <thead>\n",
       "    <tr style=\"text-align: right;\">\n",
       "      <th></th>\n",
       "      <th>id_cnt</th>\n",
       "      <th>dead_cnt</th>\n",
       "      <th>url_cnt</th>\n",
       "      <th>time_ts_cnt</th>\n",
       "      <th>time_cnt</th>\n",
       "      <th>descendants_cnt</th>\n",
       "      <th>title_cnt</th>\n",
       "      <th>deleted_cnt</th>\n",
       "      <th>text_cnt</th>\n",
       "      <th>score_cnt</th>\n",
       "      <th>author_cnt</th>\n",
       "    </tr>\n",
       "  </thead>\n",
       "  <tbody>\n",
       "    <tr>\n",
       "      <th>0</th>\n",
       "      <td>1.0</td>\n",
       "      <td>0.201216</td>\n",
       "      <td>0.938743</td>\n",
       "      <td>0.986876</td>\n",
       "      <td>0.986876</td>\n",
       "      <td>0.888657</td>\n",
       "      <td>0.939513</td>\n",
       "      <td>0.047361</td>\n",
       "      <td>0.727197</td>\n",
       "      <td>0.939515</td>\n",
       "      <td>0.939515</td>\n",
       "    </tr>\n",
       "  </tbody>\n",
       "</table>\n",
       "</div>"
      ],
      "text/plain": [
       "   id_cnt  dead_cnt   url_cnt  time_ts_cnt  time_cnt  descendants_cnt  \\\n",
       "0     1.0  0.201216  0.938743     0.986876  0.986876         0.888657   \n",
       "\n",
       "   title_cnt  deleted_cnt  text_cnt  score_cnt  author_cnt  \n",
       "0   0.939513     0.047361  0.727197   0.939515    0.939515  "
      ]
     },
     "execution_count": 17,
     "metadata": {},
     "output_type": "execute_result"
    }
   ],
   "source": [
    "df_summ_stories = df_summary['stories']\n",
    "df_summ_stories.iloc[:, 4:].div(df_summ_stories['row_cnt'], axis=0)"
   ]
  },
  {
   "cell_type": "code",
   "execution_count": null,
   "id": "9115d3cb",
   "metadata": {},
   "outputs": [],
   "source": [
    "bq_to_dataframe(bq_client, \n",
    "    f'''\n",
    "    WITH tmp AS (\n",
    "        SELECT\n",
    "            id, \n",
    "            EXTRACT(YEAR FROM TIMESTAMP_SECONDS(time)) AS year,\n",
    "            EXTRACT(MONTH FROM TIMESTAMP_SECONDS(time)) AS month,\n",
    "        FROM `{project}.{dataset}.full_201510`\n",
    "    )\n",
    "        \n",
    "    SELECT\n",
    "        year,\n",
    "        month,\n",
    "        COUNT(DISTINCT id) AS id_uniq_cnt\n",
    "    FROM tmp\n",
    "    GROUP BY 1, 2\n",
    "    ORDER BY 1, 2\n",
    "    '''\n",
    "    )"
   ]
  },
  {
   "cell_type": "markdown",
   "id": "13644b3f",
   "metadata": {},
   "source": [
    "#### `comments`\n",
    "- [GOOD] `time_ts`, `author`, `text`, `parent`: highly available\n",
    "- [GOOD] `parent`: every comments should have a parent \n",
    "- [CHECK] `dead`: 80% missing (non-dead will receive Null value)\n",
    "- [CHECK] `descendants`: 12% missing (no-replies will receive Null value)"
   ]
  },
  {
   "cell_type": "code",
   "execution_count": 18,
   "id": "8e71baea",
   "metadata": {},
   "outputs": [
    {
     "data": {
      "text/html": [
       "<div>\n",
       "<style scoped>\n",
       "    .dataframe tbody tr th:only-of-type {\n",
       "        vertical-align: middle;\n",
       "    }\n",
       "\n",
       "    .dataframe tbody tr th {\n",
       "        vertical-align: top;\n",
       "    }\n",
       "\n",
       "    .dataframe thead th {\n",
       "        text-align: right;\n",
       "    }\n",
       "</style>\n",
       "<table border=\"1\" class=\"dataframe\">\n",
       "  <thead>\n",
       "    <tr style=\"text-align: right;\">\n",
       "      <th></th>\n",
       "      <th>id_cnt</th>\n",
       "      <th>dead_cnt</th>\n",
       "      <th>ranking_cnt</th>\n",
       "      <th>time_cnt</th>\n",
       "      <th>time_ts_cnt</th>\n",
       "      <th>parent_cnt</th>\n",
       "      <th>text_cnt</th>\n",
       "      <th>deleted_cnt</th>\n",
       "      <th>author_cnt</th>\n",
       "    </tr>\n",
       "  </thead>\n",
       "  <tbody>\n",
       "    <tr>\n",
       "      <th>0</th>\n",
       "      <td>1.0</td>\n",
       "      <td>0.011829</td>\n",
       "      <td>1.0</td>\n",
       "      <td>1.0</td>\n",
       "      <td>1.0</td>\n",
       "      <td>1.0</td>\n",
       "      <td>0.972886</td>\n",
       "      <td>0.027113</td>\n",
       "      <td>0.972887</td>\n",
       "    </tr>\n",
       "  </tbody>\n",
       "</table>\n",
       "</div>"
      ],
      "text/plain": [
       "   id_cnt  dead_cnt  ranking_cnt  time_cnt  time_ts_cnt  parent_cnt  text_cnt  \\\n",
       "0     1.0  0.011829          1.0       1.0          1.0         1.0  0.972886   \n",
       "\n",
       "   deleted_cnt  author_cnt  \n",
       "0     0.027113    0.972887  "
      ]
     },
     "execution_count": 18,
     "metadata": {},
     "output_type": "execute_result"
    }
   ],
   "source": [
    "df_summ_comments = df_summary['comments']\n",
    "df_summ_comments.iloc[:, 4:].div(df_summ_comments['row_cnt'], axis=0)"
   ]
  },
  {
   "cell_type": "markdown",
   "id": "41ed339a",
   "metadata": {},
   "source": [
    "## Explore: Deep-dive sample\n",
    "\n",
    "Reading the information of `full_201510`, some columns will present the `linkage`:\n",
    "- `id`: Unique ID (Is it unique for each row? Each row = 1 post?)\n",
    "- `parent`: ID of the parent\n",
    "- `type`: Type of details (comment, comment_ranking, poll, story, job, pollopt)"
   ]
  },
  {
   "cell_type": "code",
   "execution_count": 71,
   "id": "07fa0def",
   "metadata": {},
   "outputs": [],
   "source": [
    "full_201510 = bq_to_dataframe(bq_client, \n",
    "    f'''\n",
    "    SELECT\n",
    "        id, \n",
    "        `by`,\n",
    "        type,\n",
    "        TIMESTAMP_SECONDS(time) AS time_ts,\n",
    "        title, \n",
    "        parent,\n",
    "        descendants,\n",
    "        score,\n",
    "        ranking,\n",
    "        dead,\n",
    "        deleted\n",
    "    FROM `{project}.{dataset}.full_201510`\n",
    "    TABLESAMPLE SYSTEM (5 PERCENT)\n",
    "    '''\n",
    "    )"
   ]
  },
  {
   "cell_type": "markdown",
   "id": "a0ecdb0a",
   "metadata": {},
   "source": [
    "### Check#3: Annotation"
   ]
  },
  {
   "cell_type": "markdown",
   "id": "8f614c27",
   "metadata": {},
   "source": [
    "Check if the `type` consistent with the annotation and description. \n",
    "\n",
    "We see that each row in the `full` table belongs to different types (including: `comment` and `story`)"
   ]
  },
  {
   "cell_type": "code",
   "execution_count": 24,
   "id": "5a6456a1",
   "metadata": {},
   "outputs": [
    {
     "data": {
      "text/plain": [
       "comment_ranking    255205\n",
       "comment            254295\n",
       "story               59845\n",
       "pollopt               312\n",
       "job                   182\n",
       "poll                   50\n",
       "Name: type, dtype: int64"
      ]
     },
     "execution_count": 24,
     "metadata": {},
     "output_type": "execute_result"
    }
   ],
   "source": [
    "full_201510.type.value_counts()"
   ]
  },
  {
   "cell_type": "markdown",
   "id": "d1ea8419",
   "metadata": {},
   "source": [
    "Deep-dive into the completeness of each `type`, we answer some questions about data quality in **Conclusion #2**: \n",
    "\n",
    "- [OK] `time_ts` supposed to highly available, but only available for 55% ==> No time for `comment_ranking`. Highly available for other types\n",
    "- [OK] Different `types` have the highly-available critical variables go with it\n",
    "    - `stories`: time, author, title, score, descendants\n",
    "    - `comments`: time, author, parent \n",
    "\n",
    "Help to understand better the data linkage:\n",
    "\n",
    "1. `story`: Have no `parent`, likely have `descendants` (highly available `time` and `author`)\n",
    "2. `comment`: Always have `parent`, no `descendants` (highly available `time` and `author`)\n",
    "3. Missing of `time` likely comes from `comment_ranking` (only have the `ranking` information, and id)\n",
    "\n",
    "We will focus on `comment`, `story`, and `comment_ranking` as the rest seems insignificant."
   ]
  },
  {
   "cell_type": "code",
   "execution_count": 25,
   "id": "5228bc2e",
   "metadata": {},
   "outputs": [
    {
     "data": {
      "text/html": [
       "<div>\n",
       "<style scoped>\n",
       "    .dataframe tbody tr th:only-of-type {\n",
       "        vertical-align: middle;\n",
       "    }\n",
       "\n",
       "    .dataframe tbody tr th {\n",
       "        vertical-align: top;\n",
       "    }\n",
       "\n",
       "    .dataframe thead th {\n",
       "        text-align: right;\n",
       "    }\n",
       "</style>\n",
       "<table border=\"1\" class=\"dataframe\">\n",
       "  <thead>\n",
       "    <tr style=\"text-align: right;\">\n",
       "      <th></th>\n",
       "      <th>id</th>\n",
       "      <th>author</th>\n",
       "      <th>time_ts</th>\n",
       "      <th>title</th>\n",
       "      <th>parent</th>\n",
       "      <th>descendants</th>\n",
       "      <th>score</th>\n",
       "      <th>ranking</th>\n",
       "      <th>dead</th>\n",
       "      <th>deleted</th>\n",
       "    </tr>\n",
       "    <tr>\n",
       "      <th>type</th>\n",
       "      <th></th>\n",
       "      <th></th>\n",
       "      <th></th>\n",
       "      <th></th>\n",
       "      <th></th>\n",
       "      <th></th>\n",
       "      <th></th>\n",
       "      <th></th>\n",
       "      <th></th>\n",
       "      <th></th>\n",
       "    </tr>\n",
       "  </thead>\n",
       "  <tbody>\n",
       "    <tr>\n",
       "      <th>comment</th>\n",
       "      <td>254295</td>\n",
       "      <td>247482</td>\n",
       "      <td>254295</td>\n",
       "      <td>0</td>\n",
       "      <td>254295</td>\n",
       "      <td>0</td>\n",
       "      <td>0</td>\n",
       "      <td>0</td>\n",
       "      <td>2974</td>\n",
       "      <td>6813</td>\n",
       "    </tr>\n",
       "    <tr>\n",
       "      <th>comment_ranking</th>\n",
       "      <td>255205</td>\n",
       "      <td>0</td>\n",
       "      <td>0</td>\n",
       "      <td>0</td>\n",
       "      <td>0</td>\n",
       "      <td>0</td>\n",
       "      <td>0</td>\n",
       "      <td>255205</td>\n",
       "      <td>0</td>\n",
       "      <td>0</td>\n",
       "    </tr>\n",
       "    <tr>\n",
       "      <th>job</th>\n",
       "      <td>182</td>\n",
       "      <td>168</td>\n",
       "      <td>182</td>\n",
       "      <td>168</td>\n",
       "      <td>0</td>\n",
       "      <td>0</td>\n",
       "      <td>168</td>\n",
       "      <td>0</td>\n",
       "      <td>6</td>\n",
       "      <td>14</td>\n",
       "    </tr>\n",
       "    <tr>\n",
       "      <th>poll</th>\n",
       "      <td>50</td>\n",
       "      <td>47</td>\n",
       "      <td>50</td>\n",
       "      <td>47</td>\n",
       "      <td>0</td>\n",
       "      <td>46</td>\n",
       "      <td>47</td>\n",
       "      <td>0</td>\n",
       "      <td>2</td>\n",
       "      <td>3</td>\n",
       "    </tr>\n",
       "    <tr>\n",
       "      <th>pollopt</th>\n",
       "      <td>312</td>\n",
       "      <td>303</td>\n",
       "      <td>312</td>\n",
       "      <td>10</td>\n",
       "      <td>308</td>\n",
       "      <td>0</td>\n",
       "      <td>303</td>\n",
       "      <td>0</td>\n",
       "      <td>0</td>\n",
       "      <td>9</td>\n",
       "    </tr>\n",
       "    <tr>\n",
       "      <th>story</th>\n",
       "      <td>59845</td>\n",
       "      <td>56184</td>\n",
       "      <td>59052</td>\n",
       "      <td>56184</td>\n",
       "      <td>0</td>\n",
       "      <td>53112</td>\n",
       "      <td>56184</td>\n",
       "      <td>0</td>\n",
       "      <td>12241</td>\n",
       "      <td>2868</td>\n",
       "    </tr>\n",
       "  </tbody>\n",
       "</table>\n",
       "</div>"
      ],
      "text/plain": [
       "                     id  author  time_ts  title  parent  descendants  score  \\\n",
       "type                                                                          \n",
       "comment          254295  247482   254295      0  254295            0      0   \n",
       "comment_ranking  255205       0        0      0       0            0      0   \n",
       "job                 182     168      182    168       0            0    168   \n",
       "poll                 50      47       50     47       0           46     47   \n",
       "pollopt             312     303      312     10     308            0    303   \n",
       "story             59845   56184    59052  56184       0        53112  56184   \n",
       "\n",
       "                 ranking   dead  deleted  \n",
       "type                                      \n",
       "comment                0   2974     6813  \n",
       "comment_ranking   255205      0        0  \n",
       "job                    0      6       14  \n",
       "poll                   0      2        3  \n",
       "pollopt                0      0        9  \n",
       "story                  0  12241     2868  "
      ]
     },
     "execution_count": 25,
     "metadata": {},
     "output_type": "execute_result"
    }
   ],
   "source": [
    "full_201510.groupby('type').count()"
   ]
  },
  {
   "cell_type": "code",
   "execution_count": 26,
   "id": "8dc661d1",
   "metadata": {},
   "outputs": [
    {
     "data": {
      "text/plain": [
       "id             1.000000\n",
       "author         0.938825\n",
       "type           1.000000\n",
       "time_ts        0.986749\n",
       "title          0.938825\n",
       "parent         0.000000\n",
       "descendants    0.887493\n",
       "score          0.938825\n",
       "ranking        0.000000\n",
       "dead           0.204545\n",
       "deleted        0.047924\n",
       "dtype: float64"
      ]
     },
     "execution_count": 26,
     "metadata": {},
     "output_type": "execute_result"
    }
   ],
   "source": [
    "full_201510[full_201510.type=='story'].count() / full_201510[full_201510.type=='story'].id.count()"
   ]
  },
  {
   "cell_type": "code",
   "execution_count": 27,
   "id": "7f5af362",
   "metadata": {},
   "outputs": [
    {
     "data": {
      "text/plain": [
       "id             1.000000\n",
       "author         0.973208\n",
       "type           1.000000\n",
       "time_ts        1.000000\n",
       "title          0.000000\n",
       "parent         1.000000\n",
       "descendants    0.000000\n",
       "score          0.000000\n",
       "ranking        0.000000\n",
       "dead           0.011695\n",
       "deleted        0.026792\n",
       "dtype: float64"
      ]
     },
     "execution_count": 27,
     "metadata": {},
     "output_type": "execute_result"
    }
   ],
   "source": [
    "full_201510[full_201510.type=='comment'].count() / full_201510[full_201510.type=='comment'].id.count()"
   ]
  },
  {
   "cell_type": "markdown",
   "id": "777b9de3",
   "metadata": {},
   "source": [
    "Some python module would help to visualize the missing status. Here we use `missingno`.\n",
    "Comparing the the missing matrix of the whole datatset `full_201510`. Dividing by `type` gives us much clearer pattern of missing."
   ]
  },
  {
   "cell_type": "code",
   "execution_count": 33,
   "id": "9c3cdaff",
   "metadata": {},
   "outputs": [
    {
     "data": {
      "image/png": "[encoded data removed]",
      "text/plain": [
       "<Figure size 1800x720 with 2 Axes>"
      ]
     },
     "metadata": {
      "needs_background": "light"
     },
     "output_type": "display_data"
    }
   ],
   "source": [
    "msno.matrix(full_201510.sample(1000));"
   ]
  },
  {
   "cell_type": "code",
   "execution_count": 30,
   "id": "aba7f86c",
   "metadata": {},
   "outputs": [
    {
     "data": {
      "image/png": "[encoded data removed]",
      "text/plain": [
       "<Figure size 1800x720 with 2 Axes>"
      ]
     },
     "metadata": {
      "needs_background": "light"
     },
     "output_type": "display_data"
    }
   ],
   "source": [
    "msno.matrix(full_201510[full_201510.type=='comment'].sample(1000));"
   ]
  },
  {
   "cell_type": "code",
   "execution_count": 32,
   "id": "22927ce6",
   "metadata": {},
   "outputs": [
    {
     "data": {
      "image/png": "[encoded data removed]",
      "text/plain": [
       "<Figure size 1800x720 with 2 Axes>"
      ]
     },
     "metadata": {
      "needs_background": "light"
     },
     "output_type": "display_data"
    }
   ],
   "source": [
    "msno.matrix(full_201510[full_201510.type=='story'].sample(1000));"
   ]
  },
  {
   "cell_type": "markdown",
   "id": "1d22f751",
   "metadata": {},
   "source": [
    "## Check#4: Consistency"
   ]
  },
  {
   "cell_type": "code",
   "execution_count": 56,
   "id": "7ee66752",
   "metadata": {},
   "outputs": [
    {
     "name": "stdout",
     "output_type": "stream",
     "text": [
      "<class 'pandas.core.frame.DataFrame'>\n",
      "RangeIndex: 567579 entries, 0 to 567578\n",
      "Data columns (total 11 columns):\n",
      " #   Column       Non-Null Count   Dtype              \n",
      "---  ------       --------------   -----              \n",
      " 0   id           567579 non-null  Int64              \n",
      " 1   author       303468 non-null  object             \n",
      " 2   type         567579 non-null  object             \n",
      " 3   time_ts      313306 non-null  datetime64[ns, UTC]\n",
      " 4   title        56010 non-null   object             \n",
      " 5   parent       254507 non-null  Int64              \n",
      " 6   descendants  52717 non-null   Int64              \n",
      " 7   score        56326 non-null   Int64              \n",
      " 8   ranking      253453 non-null  Int64              \n",
      " 9   dead         15089 non-null   boolean            \n",
      " 10  deleted      9838 non-null    boolean            \n",
      "dtypes: Int64(5), boolean(2), datetime64[ns, UTC](1), object(3)\n",
      "memory usage: 43.8+ MB\n"
     ]
    }
   ],
   "source": [
    "# Check the datatype (can compare with data dictionary)\n",
    "full_201510.info()"
   ]
  },
  {
   "cell_type": "markdown",
   "id": "ef03e8bc",
   "metadata": {},
   "source": [
    "- `id` and `parent` have similar range => These two are likely same id-format and could be mappable\n",
    "- `descendants`: the range is consistent with description of \"Number of story or poll descendants\" (some weird value: -1) \n",
    "- `score` and `ranking`: from 1-3 (outliers)"
   ]
  },
  {
   "cell_type": "code",
   "execution_count": 49,
   "id": "dca9b3d1",
   "metadata": {},
   "outputs": [
    {
     "data": {
      "text/html": [
       "<div>\n",
       "<style scoped>\n",
       "    .dataframe tbody tr th:only-of-type {\n",
       "        vertical-align: middle;\n",
       "    }\n",
       "\n",
       "    .dataframe tbody tr th {\n",
       "        vertical-align: top;\n",
       "    }\n",
       "\n",
       "    .dataframe thead th {\n",
       "        text-align: right;\n",
       "    }\n",
       "</style>\n",
       "<table border=\"1\" class=\"dataframe\">\n",
       "  <thead>\n",
       "    <tr style=\"text-align: right;\">\n",
       "      <th></th>\n",
       "      <th>id</th>\n",
       "      <th>parent</th>\n",
       "      <th>descendants</th>\n",
       "      <th>score</th>\n",
       "      <th>ranking</th>\n",
       "      <th>dead</th>\n",
       "      <th>deleted</th>\n",
       "    </tr>\n",
       "  </thead>\n",
       "  <tbody>\n",
       "    <tr>\n",
       "      <th>count</th>\n",
       "      <td>5.675790e+05</td>\n",
       "      <td>2.545070e+05</td>\n",
       "      <td>52717.000000</td>\n",
       "      <td>56326.000000</td>\n",
       "      <td>253453.000000</td>\n",
       "      <td>15089</td>\n",
       "      <td>9838</td>\n",
       "    </tr>\n",
       "    <tr>\n",
       "      <th>unique</th>\n",
       "      <td>NaN</td>\n",
       "      <td>NaN</td>\n",
       "      <td>NaN</td>\n",
       "      <td>NaN</td>\n",
       "      <td>NaN</td>\n",
       "      <td>1</td>\n",
       "      <td>1</td>\n",
       "    </tr>\n",
       "    <tr>\n",
       "      <th>top</th>\n",
       "      <td>NaN</td>\n",
       "      <td>NaN</td>\n",
       "      <td>NaN</td>\n",
       "      <td>NaN</td>\n",
       "      <td>NaN</td>\n",
       "      <td>True</td>\n",
       "      <td>True</td>\n",
       "    </tr>\n",
       "    <tr>\n",
       "      <th>freq</th>\n",
       "      <td>NaN</td>\n",
       "      <td>NaN</td>\n",
       "      <td>NaN</td>\n",
       "      <td>NaN</td>\n",
       "      <td>NaN</td>\n",
       "      <td>15089</td>\n",
       "      <td>9838</td>\n",
       "    </tr>\n",
       "    <tr>\n",
       "      <th>mean</th>\n",
       "      <td>5.221163e+06</td>\n",
       "      <td>5.245601e+06</td>\n",
       "      <td>4.367510</td>\n",
       "      <td>10.595302</td>\n",
       "      <td>3.993778</td>\n",
       "      <td>NaN</td>\n",
       "      <td>NaN</td>\n",
       "    </tr>\n",
       "    <tr>\n",
       "      <th>std</th>\n",
       "      <td>2.999915e+06</td>\n",
       "      <td>3.000794e+06</td>\n",
       "      <td>19.867488</td>\n",
       "      <td>41.827314</td>\n",
       "      <td>19.708766</td>\n",
       "      <td>NaN</td>\n",
       "      <td>NaN</td>\n",
       "    </tr>\n",
       "    <tr>\n",
       "      <th>min</th>\n",
       "      <td>4.100000e+01</td>\n",
       "      <td>7.000000e+00</td>\n",
       "      <td>-1.000000</td>\n",
       "      <td>0.000000</td>\n",
       "      <td>0.000000</td>\n",
       "      <td>NaN</td>\n",
       "      <td>NaN</td>\n",
       "    </tr>\n",
       "    <tr>\n",
       "      <th>25%</th>\n",
       "      <td>2.604297e+06</td>\n",
       "      <td>2.609027e+06</td>\n",
       "      <td>0.000000</td>\n",
       "      <td>1.000000</td>\n",
       "      <td>0.000000</td>\n",
       "      <td>NaN</td>\n",
       "      <td>NaN</td>\n",
       "    </tr>\n",
       "    <tr>\n",
       "      <th>50%</th>\n",
       "      <td>5.248868e+06</td>\n",
       "      <td>5.303888e+06</td>\n",
       "      <td>0.000000</td>\n",
       "      <td>2.000000</td>\n",
       "      <td>1.000000</td>\n",
       "      <td>NaN</td>\n",
       "      <td>NaN</td>\n",
       "    </tr>\n",
       "    <tr>\n",
       "      <th>75%</th>\n",
       "      <td>7.818198e+06</td>\n",
       "      <td>7.840893e+06</td>\n",
       "      <td>1.000000</td>\n",
       "      <td>3.000000</td>\n",
       "      <td>3.000000</td>\n",
       "      <td>NaN</td>\n",
       "      <td>NaN</td>\n",
       "    </tr>\n",
       "    <tr>\n",
       "      <th>max</th>\n",
       "      <td>1.037919e+07</td>\n",
       "      <td>1.037897e+07</td>\n",
       "      <td>802.000000</td>\n",
       "      <td>1664.000000</td>\n",
       "      <td>1304.000000</td>\n",
       "      <td>NaN</td>\n",
       "      <td>NaN</td>\n",
       "    </tr>\n",
       "  </tbody>\n",
       "</table>\n",
       "</div>"
      ],
      "text/plain": [
       "                  id        parent   descendants         score        ranking  \\\n",
       "count   5.675790e+05  2.545070e+05  52717.000000  56326.000000  253453.000000   \n",
       "unique           NaN           NaN           NaN           NaN            NaN   \n",
       "top              NaN           NaN           NaN           NaN            NaN   \n",
       "freq             NaN           NaN           NaN           NaN            NaN   \n",
       "mean    5.221163e+06  5.245601e+06      4.367510     10.595302       3.993778   \n",
       "std     2.999915e+06  3.000794e+06     19.867488     41.827314      19.708766   \n",
       "min     4.100000e+01  7.000000e+00     -1.000000      0.000000       0.000000   \n",
       "25%     2.604297e+06  2.609027e+06      0.000000      1.000000       0.000000   \n",
       "50%     5.248868e+06  5.303888e+06      0.000000      2.000000       1.000000   \n",
       "75%     7.818198e+06  7.840893e+06      1.000000      3.000000       3.000000   \n",
       "max     1.037919e+07  1.037897e+07    802.000000   1664.000000    1304.000000   \n",
       "\n",
       "         dead deleted  \n",
       "count   15089    9838  \n",
       "unique      1       1  \n",
       "top      True    True  \n",
       "freq    15089    9838  \n",
       "mean      NaN     NaN  \n",
       "std       NaN     NaN  \n",
       "min       NaN     NaN  \n",
       "25%       NaN     NaN  \n",
       "50%       NaN     NaN  \n",
       "75%       NaN     NaN  \n",
       "max       NaN     NaN  "
      ]
     },
     "execution_count": 49,
     "metadata": {},
     "output_type": "execute_result"
    }
   ],
   "source": [
    "# Check the range\n",
    "full_201510.describe()"
   ]
  },
  {
   "cell_type": "markdown",
   "id": "a2431cfb",
   "metadata": {},
   "source": [
    "## Check#5: Linkage\n",
    "\n",
    "Based on the previous analysis, we can come with potential linkage of the data:\n",
    "\n",
    "1. How to link `comment_ranking` to `comment`? ==> `id`\n",
    "2. How to link `comment` to `story`?\n",
    "    - `story` has `id` in `parent` of `comment`\n",
    "\n",
    "Notice that as we use the sample, not all ids are mappable. We check if the id is potential to use for the linkage, with the `any()`"
   ]
  },
  {
   "cell_type": "code",
   "execution_count": null,
   "id": "8c960d99",
   "metadata": {},
   "outputs": [
    {
     "name": "stdout",
     "output_type": "stream",
     "text": [
      "Check OVERLAP pair: comment_ranking x comment_ranking ==> True\n",
      "Check OVERLAP pair: comment_ranking x job ==> False\n",
      "Check OVERLAP pair: comment_ranking x poll ==> False\n",
      "Check OVERLAP pair: comment_ranking x pollopt ==> False\n",
      "Check OVERLAP pair: comment_ranking x comment ==> True\n",
      "--------------------\n",
      "Check OVERLAP pair: job x comment_ranking ==> False\n",
      "Check OVERLAP pair: job x job ==> True\n",
      "Check OVERLAP pair: job x poll ==> False\n",
      "Check OVERLAP pair: job x pollopt ==> False\n",
      "Check OVERLAP pair: job x comment ==> False\n",
      "--------------------\n",
      "Check OVERLAP pair: poll x comment_ranking ==> False\n",
      "Check OVERLAP pair: poll x job ==> False\n",
      "Check OVERLAP pair: poll x poll ==> True\n",
      "Check OVERLAP pair: poll x pollopt ==> False\n",
      "Check OVERLAP pair: poll x comment ==> False\n",
      "--------------------\n",
      "Check OVERLAP pair: pollopt x comment_ranking ==> False\n",
      "Check OVERLAP pair: pollopt x job ==> False\n",
      "Check OVERLAP pair: pollopt x poll ==> False\n",
      "Check OVERLAP pair: pollopt x pollopt ==> True\n",
      "Check OVERLAP pair: pollopt x comment ==> False\n",
      "--------------------\n",
      "Check OVERLAP pair: comment x comment_ranking ==> True\n",
      "Check OVERLAP pair: comment x job ==> False\n",
      "Check OVERLAP pair: comment x poll ==> False\n",
      "Check OVERLAP pair: comment x pollopt ==> False\n",
      "Check OVERLAP pair: comment x comment ==> True\n",
      "--------------------\n"
     ]
    }
   ],
   "source": [
    "# Cross-check if any id mappable (overlapped)?\n",
    "for type_1 in ['comment_ranking', 'job', 'poll', 'pollopt', 'comment']:\n",
    "    for type_2 in ['comment_ranking', 'job', 'poll', 'pollopt', 'comment']:\n",
    "        check = any(full_201510[full_201510.type==type_1].id.isin(full_201510[full_201510.type==type_2].id))\n",
    "        print(f'Check OVERLAP pair: {type_1} x {type_2} ==> {check}')\n",
    "    print('-'*20)"
   ]
  },
  {
   "cell_type": "code",
   "execution_count": null,
   "id": "70398fe3",
   "metadata": {},
   "outputs": [
    {
     "data": {
      "text/plain": [
       "True"
      ]
     },
     "execution_count": 168,
     "metadata": {},
     "output_type": "execute_result"
    }
   ],
   "source": [
    "# `story` has `id` in `parent` of `comment`\n",
    "any(full_201510[full_201510.type=='story'].id.isin(full_201510[full_201510.type=='comment'].parent))"
   ]
  },
  {
   "cell_type": "code",
   "execution_count": 69,
   "id": "2ac0ab76",
   "metadata": {},
   "outputs": [
    {
     "data": {
      "text/plain": [
       "True"
      ]
     },
     "execution_count": 69,
     "metadata": {},
     "output_type": "execute_result"
    }
   ],
   "source": [
    "# `comment` has `id` in `parent` of `comment`\n",
    "any(full_201510[full_201510.type=='comment'].id.isin(full_201510[full_201510.type=='comment'].parent))"
   ]
  },
  {
   "cell_type": "markdown",
   "id": "7cd41550",
   "metadata": {},
   "source": [
    "Lastly, check if the `comments` and `stories` are splitted and processed from `full_201510` table.\n",
    "\n",
    "> [CHECK] Consider the number of rows of `comments` and `stories`, we might have the educated guess that these two datasets are splitted from `full_201510`."
   ]
  },
  {
   "cell_type": "code",
   "execution_count": null,
   "id": "9e834977",
   "metadata": {},
   "outputs": [
    {
     "data": {
      "text/html": [
       "<div>\n",
       "<style scoped>\n",
       "    .dataframe tbody tr th:only-of-type {\n",
       "        vertical-align: middle;\n",
       "    }\n",
       "\n",
       "    .dataframe tbody tr th {\n",
       "        vertical-align: top;\n",
       "    }\n",
       "\n",
       "    .dataframe thead th {\n",
       "        text-align: right;\n",
       "    }\n",
       "</style>\n",
       "<table border=\"1\" class=\"dataframe\">\n",
       "  <thead>\n",
       "    <tr style=\"text-align: right;\">\n",
       "      <th></th>\n",
       "      <th>story_id_coverage</th>\n",
       "    </tr>\n",
       "  </thead>\n",
       "  <tbody>\n",
       "    <tr>\n",
       "      <th>0</th>\n",
       "      <td>1.0</td>\n",
       "    </tr>\n",
       "  </tbody>\n",
       "</table>\n",
       "</div>"
      ],
      "text/plain": [
       "   story_id_coverage\n",
       "0                1.0"
      ]
     },
     "execution_count": 216,
     "metadata": {},
     "output_type": "execute_result"
    }
   ],
   "source": [
    "bq_to_dataframe(bq_client, \n",
    "    f'''\n",
    "    SELECT\n",
    "        COUNT(DISTINCT s.id) / COUNT(DISTINCT f.id) AS story_id_coverage\n",
    "    FROM `{project}.{dataset}.full_201510` AS f\n",
    "    LEFT OUTER JOIN `{project}.{dataset}.stories` AS s\n",
    "    ON s.id = f.id\n",
    "    WHERE f.type='story'\n",
    "    '''\n",
    "    )"
   ]
  },
  {
   "cell_type": "code",
   "execution_count": 219,
   "id": "eb2ce9df",
   "metadata": {},
   "outputs": [
    {
     "data": {
      "text/html": [
       "<div>\n",
       "<style scoped>\n",
       "    .dataframe tbody tr th:only-of-type {\n",
       "        vertical-align: middle;\n",
       "    }\n",
       "\n",
       "    .dataframe tbody tr th {\n",
       "        vertical-align: top;\n",
       "    }\n",
       "\n",
       "    .dataframe thead th {\n",
       "        text-align: right;\n",
       "    }\n",
       "</style>\n",
       "<table border=\"1\" class=\"dataframe\">\n",
       "  <thead>\n",
       "    <tr style=\"text-align: right;\">\n",
       "      <th></th>\n",
       "      <th>comment_id_coverage</th>\n",
       "    </tr>\n",
       "  </thead>\n",
       "  <tbody>\n",
       "    <tr>\n",
       "      <th>0</th>\n",
       "      <td>0.99994</td>\n",
       "    </tr>\n",
       "  </tbody>\n",
       "</table>\n",
       "</div>"
      ],
      "text/plain": [
       "   comment_id_coverage\n",
       "0              0.99994"
      ]
     },
     "execution_count": 219,
     "metadata": {},
     "output_type": "execute_result"
    }
   ],
   "source": [
    "bq_to_dataframe(bq_client, \n",
    "    f'''\n",
    "    SELECT\n",
    "        COUNT(DISTINCT c.id) / COUNT(DISTINCT f.id) AS comment_id_coverage\n",
    "    FROM `{project}.{dataset}.full_201510` AS f\n",
    "    LEFT OUTER JOIN `{project}.{dataset}.comments` AS c\n",
    "    ON c.id = f.id\n",
    "    WHERE f.type='comment'\n",
    "    '''\n",
    "    )"
   ]
  },
  {
   "cell_type": "markdown",
   "id": "2066716f",
   "metadata": {},
   "source": [
    "Now, we are ready to build the DB diagram, and select the data for our next steps."
   ]
  }
 ],
 "metadata": {
  "kernelspec": {
   "display_name": "PyCharm (analytics-training-samples)",
   "language": "python",
   "name": "pycharm-7106473a"
  },
  "language_info": {
   "codemirror_mode": {
    "name": "ipython",
    "version": 3
   },
   "file_extension": ".py",
   "mimetype": "text/x-python",
   "name": "python",
   "nbconvert_exporter": "python",
   "pygments_lexer": "ipython3",
   "version": "3.9.12"
  },
  "vscode": {
   "interpreter": {
    "hash": "572c6d4a5aee5decd6363b4c3e3084426e81a3d86d0b22e40c86b1e1602b33e9"
   }
  }
 },
 "nbformat": 4,
 "nbformat_minor": 5
}